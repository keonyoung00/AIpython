{
 "cells": [
  {
   "cell_type": "code",
   "execution_count": 1,
   "id": "ec5842cd-fa23-4a5c-9fe2-4391e9e39889",
   "metadata": {},
   "outputs": [
    {
     "name": "stdout",
     "output_type": "stream",
     "text": [
      "Hello World\n"
     ]
    }
   ],
   "source": [
    "print(\"Hello World\")"
   ]
  },
  {
   "cell_type": "code",
   "execution_count": 12,
   "id": "0c326001-bb2c-4b69-b2d4-40d79cc5b0c9",
   "metadata": {},
   "outputs": [],
   "source": [
    "id = '250411-3111111'"
   ]
  },
  {
   "cell_type": "code",
   "execution_count": 14,
   "id": "a61cbefd-6912-47ba-adcb-4dbfb82f217a",
   "metadata": {},
   "outputs": [
    {
     "data": {
      "text/plain": [
       "'3'"
      ]
     },
     "execution_count": 14,
     "metadata": {},
     "output_type": "execute_result"
    }
   ],
   "source": [
    "id[7]"
   ]
  },
  {
   "cell_type": "code",
   "execution_count": 18,
   "id": "2cb09856-66d8-43cc-b961-2f40981767fe",
   "metadata": {},
   "outputs": [
    {
     "name": "stdout",
     "output_type": "stream",
     "text": [
      "남자\n"
     ]
    }
   ],
   "source": [
    "if id[7] == '3':\n",
    "    print(\"남자\")\n",
    "else:\n",
    "    print(\"여자\")"
   ]
  },
  {
   "cell_type": "code",
   "execution_count": 34,
   "id": "0c11455e-3085-4267-88c0-00aa5932270e",
   "metadata": {},
   "outputs": [
    {
     "name": "stdin",
     "output_type": "stream",
     "text": [
      "문자열을 입력하세요.  python\n"
     ]
    },
    {
     "name": "stdout",
     "output_type": "stream",
     "text": [
      "nohtyp"
     ]
    }
   ],
   "source": [
    "s = input(\"문자열을 입력하세요. \")\n",
    "for i in range(len(s)-1, -1, -1):\n",
    "    print(s[i], end='')"
   ]
  },
  {
   "cell_type": "code",
   "execution_count": 46,
   "id": "52307392-1bc4-45e9-9913-edcf2967f074",
   "metadata": {},
   "outputs": [
    {
     "name": "stdin",
     "output_type": "stream",
     "text": [
      "문자열 aba\n"
     ]
    },
    {
     "name": "stdout",
     "output_type": "stream",
     "text": [
      "회문\n"
     ]
    }
   ],
   "source": [
    "s1 = input(\"문자열\")\n",
    "s2 = ''\n",
    "for i in range(len(s1)-1, -1, -1):\n",
    "    s2 = s2 + s1[i]\n",
    "if s1 == s2:\n",
    "    print(\"회문\")\n",
    "else:\n",
    "    print(\"회문 아님\")"
   ]
  },
  {
   "cell_type": "code",
   "execution_count": 36,
   "id": "1575a925-6633-44f5-a0c2-89173318281b",
   "metadata": {},
   "outputs": [
    {
     "name": "stdin",
     "output_type": "stream",
     "text": [
      "문자열:  abba\n"
     ]
    },
    {
     "name": "stdout",
     "output_type": "stream",
     "text": [
      "회문\n"
     ]
    }
   ],
   "source": [
    "s1 = input(\"문자열: \")\n",
    "\n",
    "if s1 == s1[::-1]:\n",
    "    print(\"회문\")\n",
    "else:\n",
    "    print(\"회문 아님\")"
   ]
  },
  {
   "cell_type": "code",
   "execution_count": 50,
   "id": "482b2da1-bbe0-472a-9a34-9dc54d81eb91",
   "metadata": {},
   "outputs": [
    {
     "name": "stdin",
     "output_type": "stream",
     "text": [
      "단어 또는 exit:  Python\n",
      "단어 또는 exit:  heLLO\n",
      "단어 또는 exit:  WoRlD\n",
      "단어 또는 exit:  comPUTER\n",
      "단어 또는 exit:  exit\n"
     ]
    },
    {
     "name": "stdout",
     "output_type": "stream",
     "text": [
      "python hello world computer "
     ]
    }
   ],
   "source": [
    "lower_list = []\n",
    "while True:\n",
    "    s = input(\"단어 또는 exit: \")\n",
    "    if s == 'exit':\n",
    "        break\n",
    "    lower_list.append(s.lower())\n",
    "for _ in lower_list:\n",
    "    print(_, end=' ')"
   ]
  },
  {
   "cell_type": "code",
   "execution_count": 52,
   "id": "f09dfab7-7023-4060-ae0b-8d12ba07a604",
   "metadata": {},
   "outputs": [
    {
     "data": {
      "text/plain": [
       "-1"
      ]
     },
     "execution_count": 52,
     "metadata": {},
     "output_type": "execute_result"
    }
   ],
   "source": [
    "a = \"Hi! Python is Python.\"\n",
    "a.find('Pythin')"
   ]
  },
  {
   "cell_type": "code",
   "execution_count": 56,
   "id": "f4956df3-dc74-40ea-b7dd-9b132c59dd09",
   "metadata": {},
   "outputs": [
    {
     "name": "stdout",
     "output_type": "stream",
     "text": [
      "['부산시', '금정구']\n"
     ]
    }
   ],
   "source": [
    "a = \"부산시 금정구\"\n",
    "print(a.split(' '))"
   ]
  },
  {
   "cell_type": "code",
   "execution_count": 3,
   "id": "503f6546-1b9e-4459-b5f3-fdf7b02da17a",
   "metadata": {},
   "outputs": [
    {
     "name": "stdin",
     "output_type": "stream",
     "text": [
      "숫자를 포함한 문자열:  moon\n"
     ]
    },
    {
     "name": "stdout",
     "output_type": "stream",
     "text": [
      "다시 입력하세요\n"
     ]
    },
    {
     "name": "stdin",
     "output_type": "stream",
     "text": [
      "숫자를 포함한 문자열:  30\n"
     ]
    },
    {
     "name": "stdout",
     "output_type": "stream",
     "text": [
      "다시 입력하세요\n"
     ]
    },
    {
     "name": "stdin",
     "output_type": "stream",
     "text": [
      "숫자를 포함한 문자열:  moonky30\n"
     ]
    },
    {
     "name": "stdout",
     "output_type": "stream",
     "text": [
      "moonky30\n"
     ]
    }
   ],
   "source": [
    "while True:\n",
    "    a = input(\"숫자를 포함한 문자열: \") \n",
    "    if a.isdigit() != True and a.isalpha() != True and a.isalnum() == True:\n",
    "        print(a)\n",
    "        break\n",
    "    else:\n",
    "        print(\"다시 입력하세요\")"
   ]
  },
  {
   "cell_type": "code",
   "execution_count": 76,
   "id": "c057dfde-d15c-431e-b8de-8f5c52ed5c47",
   "metadata": {},
   "outputs": [
    {
     "data": {
      "text/plain": [
       "False"
      ]
     },
     "execution_count": 76,
     "metadata": {},
     "output_type": "execute_result"
    }
   ],
   "source": [
    "'moon'.isdigit()"
   ]
  },
  {
   "cell_type": "code",
   "execution_count": 5,
   "id": "5b781213-d000-4f39-aec9-17fd7d0619f2",
   "metadata": {},
   "outputs": [],
   "source": [
    "a = []"
   ]
  },
  {
   "cell_type": "code",
   "execution_count": 17,
   "id": "dee1e9c9-789b-4582-a955-c0ccca38fc05",
   "metadata": {},
   "outputs": [],
   "source": [
    "b, c = 'hi', 'python'"
   ]
  },
  {
   "cell_type": "code",
   "execution_count": 19,
   "id": "9b2f798f-4234-48cf-8798-dcdcc75ea177",
   "metadata": {},
   "outputs": [
    {
     "ename": "TypeError",
     "evalue": "list expected at most 1 argument, got 2",
     "output_type": "error",
     "traceback": [
      "\u001b[1;31m---------------------------------------------------------------------------\u001b[0m",
      "\u001b[1;31mTypeError\u001b[0m                                 Traceback (most recent call last)",
      "Cell \u001b[1;32mIn[19], line 1\u001b[0m\n\u001b[1;32m----> 1\u001b[0m a\u001b[38;5;241m.\u001b[39mappend(\u001b[38;5;28mlist\u001b[39m(b, c))\n",
      "\u001b[1;31mTypeError\u001b[0m: list expected at most 1 argument, got 2"
     ]
    }
   ],
   "source": []
  },
  {
   "cell_type": "code",
   "execution_count": null,
   "id": "7d7908b3-e8cc-4670-92c7-ed9c54188fd4",
   "metadata": {},
   "outputs": [],
   "source": []
  }
 ],
 "metadata": {
  "kernelspec": {
   "display_name": "Python 3 (ipykernel)",
   "language": "python",
   "name": "python3"
  },
  "language_info": {
   "codemirror_mode": {
    "name": "ipython",
    "version": 3
   },
   "file_extension": ".py",
   "mimetype": "text/x-python",
   "name": "python",
   "nbconvert_exporter": "python",
   "pygments_lexer": "ipython3",
   "version": "3.12.7"
  }
 },
 "nbformat": 4,
 "nbformat_minor": 5
}
