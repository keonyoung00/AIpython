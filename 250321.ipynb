{
 "cells": [
  {
   "cell_type": "code",
   "execution_count": 1,
   "id": "ea9f3b39-4f7f-4012-97df-4cd9752e64e5",
   "metadata": {},
   "outputs": [
    {
     "name": "stdout",
     "output_type": "stream",
     "text": [
      "Hello World\n"
     ]
    }
   ],
   "source": [
    "print(\"Hello World\")"
   ]
  },
  {
   "cell_type": "code",
   "execution_count": 2,
   "id": "5f3698a3-6b7e-420a-941a-432ade7679d0",
   "metadata": {},
   "outputs": [
    {
     "name": "stdin",
     "output_type": "stream",
     "text": [
      "나이를 입력하세요:  1\n"
     ]
    },
    {
     "name": "stdout",
     "output_type": "stream",
     "text": [
      "당신은 내년에 2살 입니다.\n"
     ]
    }
   ],
   "source": [
    "age = input(\"나이를 입력하세요: \")\n",
    "age = int(age)\n",
    "print(f\"당신은 내년에 {age + 1}살 입니다.\")"
   ]
  },
  {
   "cell_type": "code",
   "execution_count": 3,
   "id": "3a1d843b-b5fa-4d6a-9926-b9dac131f652",
   "metadata": {
    "scrolled": true
   },
   "outputs": [
    {
     "name": "stdin",
     "output_type": "stream",
     "text": [
      "나이를 입력하세요:  2\n"
     ]
    },
    {
     "name": "stdout",
     "output_type": "stream",
     "text": [
      "당신은 내년에 3 살입니다.\n"
     ]
    }
   ],
   "source": [
    "age = int(input(\"나이를 입력하세요: \"))\n",
    "print(\"당신은 내년에\", age + 1, \"살입니다.\")"
   ]
  },
  {
   "cell_type": "code",
   "execution_count": 10,
   "id": "6a28c3a2-8ec4-47ae-bca2-3be809ee15ef",
   "metadata": {},
   "outputs": [
    {
     "name": "stdout",
     "output_type": "stream",
     "text": [
      "좋아요 합격입니다.\n"
     ]
    }
   ],
   "source": [
    "score = 80\n",
    "if score >= 90:\n",
    "    print(\"정말 잘했어요\")\n",
    "elif score >= 60:\n",
    "    print(\"좋아요 합격입니다.\")\n",
    "else:\n",
    "    print(\"다음에 더 잘해봐요\")"
   ]
  },
  {
   "cell_type": "code",
   "execution_count": 14,
   "id": "f44908ed-1f59-464a-83da-417074f99a1f",
   "metadata": {},
   "outputs": [
    {
     "name": "stdin",
     "output_type": "stream",
     "text": [
      "숫자를 입력하세요:  0.7\n"
     ]
    },
    {
     "name": "stdout",
     "output_type": "stream",
     "text": [
      "양수 입니다.\n"
     ]
    }
   ],
   "source": [
    "#입력받은 숫자가 양수인지 음수인지 판단하는 코드\n",
    "\n",
    "num = float(input(\"숫자를 입력하세요: \"))\n",
    "\n",
    "if num > 0:\n",
    "    print(\"양수 입니다.\")\n",
    "elif num == 0:\n",
    "    print(\"다시 입력하세요.\")\n",
    "else:\n",
    "    print(\"음수 입니다.\")"
   ]
  },
  {
   "cell_type": "code",
   "execution_count": 18,
   "id": "46f0b79e-6ea2-42de-bb08-da4208999b44",
   "metadata": {},
   "outputs": [
    {
     "name": "stdin",
     "output_type": "stream",
     "text": [
      "정수를 입력하세요:  27\n"
     ]
    },
    {
     "name": "stdout",
     "output_type": "stream",
     "text": [
      "27은 홀수입니다.\n"
     ]
    }
   ],
   "source": [
    "#짝수 홀수를 구분하는 코드\n",
    "\n",
    "num = int(input(\"정수를 입력하세요: \"))\n",
    "\n",
    "if num % 2 == 0:\n",
    "    print(f\"{num}은 짝수입니다.\")\n",
    "else:\n",
    "    print(f\"{num}은 홀수입니다.\")"
   ]
  }
 ],
 "metadata": {
  "kernelspec": {
   "display_name": "Python [conda env:base] *",
   "language": "python",
   "name": "conda-base-py"
  },
  "language_info": {
   "codemirror_mode": {
    "name": "ipython",
    "version": 3
   },
   "file_extension": ".py",
   "mimetype": "text/x-python",
   "name": "python",
   "nbconvert_exporter": "python",
   "pygments_lexer": "ipython3",
   "version": "3.12.7"
  }
 },
 "nbformat": 4,
 "nbformat_minor": 5
}
