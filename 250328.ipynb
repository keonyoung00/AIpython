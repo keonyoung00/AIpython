{
  "nbformat": 4,
  "nbformat_minor": 0,
  "metadata": {
    "colab": {
      "provenance": [],
      "authorship_tag": "ABX9TyNxEX+KLKtoNYG4BYj3r4vI",
      "include_colab_link": true
    },
    "kernelspec": {
      "name": "python3",
      "display_name": "Python 3"
    },
    "language_info": {
      "name": "python"
    }
  },
  "cells": [
    {
      "cell_type": "markdown",
      "metadata": {
        "id": "view-in-github",
        "colab_type": "text"
      },
      "source": [
        "<a href=\"https://colab.research.google.com/github/keonyoung00/AIpython/blob/main/250328.ipynb\" target=\"_parent\"><img src=\"https://colab.research.google.com/assets/colab-badge.svg\" alt=\"Open In Colab\"/></a>"
      ]
    },
    {
      "cell_type": "code",
      "execution_count": 1,
      "metadata": {
        "colab": {
          "base_uri": "https://localhost:8080/"
        },
        "id": "4-NPSlHPR-7b",
        "outputId": "1ad1ed5d-6156-4e3e-9d03-81d8c5802e73"
      },
      "outputs": [
        {
          "output_type": "stream",
          "name": "stdout",
          "text": [
            "Hello World\n"
          ]
        }
      ],
      "source": [
        "print(\"Hello World\")"
      ]
    },
    {
      "cell_type": "code",
      "source": [
        "try:\n",
        "  a, b = map(int, input(\"두 숫자를 입력하세요. \").split())\n",
        "\n",
        "  if a > b:\n",
        "    print(f\"{a}는 {b}보다 큽니다.\")\n",
        "  elif a < b:\n",
        "    print(f\"{a}는 {b}보다 작습니다.\")\n",
        "  else:\n",
        "    print(f\"{a}는 {b}와 같습니다.\")\n",
        "except ValueError:\n",
        "  print(\"입력값이 잘못되었습니다.\")"
      ],
      "metadata": {
        "colab": {
          "base_uri": "https://localhost:8080/"
        },
        "id": "tiK-xGm7SP8t",
        "outputId": "63c5e520-8ba3-4a21-e859-d8244a29b84f"
      },
      "execution_count": 8,
      "outputs": [
        {
          "output_type": "stream",
          "name": "stdout",
          "text": [
            "a 3\n",
            "입력값이 잘못되었습니다.\n"
          ]
        }
      ]
    },
    {
      "cell_type": "code",
      "source": [
        "try:\n",
        "  num1, num2, num3 = map(int, input(\"세 숫자를 입력하세요. \").split())\n",
        "  max_num = num1\n",
        "  if num1 <= num2:\n",
        "    max_num = num2\n",
        "  if num2 <= num3:\n",
        "    max_num = num3\n",
        "  print(max_num)\n",
        "except ValueError:\n",
        "  print(\"입력값이 잘못되었습니다.\")"
      ],
      "metadata": {
        "colab": {
          "base_uri": "https://localhost:8080/"
        },
        "id": "-KRMwWKRUZSo",
        "outputId": "7a4aebd4-4c9d-408b-f3ab-3abdc9e1faa0"
      },
      "execution_count": 12,
      "outputs": [
        {
          "output_type": "stream",
          "name": "stdout",
          "text": [
            "1 2 a\n",
            "입력값이 잘못되었습니다.\n"
          ]
        }
      ]
    },
    {
      "cell_type": "code",
      "source": [
        "score = input(\"점수를 입력하세요: \")\n",
        "try:\n",
        "  score = int(score)\n",
        "  if score >= 90:\n",
        "    print(\"'A'학점입니다.\")\n",
        "  elif score >= 80:\n",
        "    print(\"'B'학점입니다.\")\n",
        "  elif score >= 70:\n",
        "    print(\"'C'학점입니다.\")\n",
        "  elif score >= 60:\n",
        "    print(\"'D'학점입니다.\")\n",
        "  else:\n",
        "    print(\"'F'학점입니다.\")\n",
        "except ValueError:\n",
        "  print(\"입력값이 잘못되었습니다.\")"
      ],
      "metadata": {
        "colab": {
          "base_uri": "https://localhost:8080/"
        },
        "id": "5ZqTIpZvY2Ce",
        "outputId": "7f23a588-1bbf-433b-efbc-33e2bbc946c3"
      },
      "execution_count": 17,
      "outputs": [
        {
          "output_type": "stream",
          "name": "stdout",
          "text": [
            "점수를 입력하세요: 80\n",
            "'B'학점입니다.\n"
          ]
        }
      ]
    },
    {
      "cell_type": "code",
      "source": [
        "len(range(2,2))"
      ],
      "metadata": {
        "colab": {
          "base_uri": "https://localhost:8080/"
        },
        "id": "ccv0c1APdJnN",
        "outputId": "60ee1118-19b1-4b78-b11c-c3ca23faef34"
      },
      "execution_count": 20,
      "outputs": [
        {
          "output_type": "execute_result",
          "data": {
            "text/plain": [
              "0"
            ]
          },
          "metadata": {},
          "execution_count": 20
        }
      ]
    },
    {
      "cell_type": "code",
      "source": [
        "year = input(\"년도를 입력하세요: \")\n",
        "\n",
        "try:\n",
        "  year = int(year)\n",
        "\n",
        "  if (year % 4 == 0 and year % 100 != 0) or (year % 400 == 0):\n",
        "    print(f\"{year}년은 윤년입니다.\")\n",
        "  else:\n",
        "    print(f\"{year}년은 윤년이 아닙니다.\")\n",
        "except ValueError:\n",
        "  print(\"입력값이 잘못되었습니다.\")"
      ],
      "metadata": {
        "colab": {
          "base_uri": "https://localhost:8080/"
        },
        "id": "f_20Mnr9eUij",
        "outputId": "cace0343-4ce2-4474-84b3-d376116861a7"
      },
      "execution_count": 23,
      "outputs": [
        {
          "output_type": "stream",
          "name": "stdout",
          "text": [
            "년도를 입력하세요: 2012\n",
            "2012년은 윤년입니다.\n"
          ]
        }
      ]
    },
    {
      "cell_type": "code",
      "source": [
        "for i in range(1, 6):\n",
        "  print(i)"
      ],
      "metadata": {
        "colab": {
          "base_uri": "https://localhost:8080/"
        },
        "id": "kVIAKSzIgKVH",
        "outputId": "9337fc02-5d0a-403d-9085-6d04f546c4e3"
      },
      "execution_count": 27,
      "outputs": [
        {
          "output_type": "stream",
          "name": "stdout",
          "text": [
            "1\n",
            "2\n",
            "3\n",
            "4\n",
            "5\n"
          ]
        }
      ]
    },
    {
      "cell_type": "code",
      "source": [
        "N = int(input())\n",
        "sum = 0\n",
        "for i in range(N):\n",
        "  sum += i + 1\n",
        "print(sum)"
      ],
      "metadata": {
        "colab": {
          "base_uri": "https://localhost:8080/"
        },
        "id": "cJ5V4UghnM3G",
        "outputId": "03819e9d-54e0-4f63-a1b4-c99e03de7301"
      },
      "execution_count": 37,
      "outputs": [
        {
          "output_type": "stream",
          "name": "stdout",
          "text": [
            "10\n",
            "55\n"
          ]
        }
      ]
    },
    {
      "cell_type": "code",
      "source": [
        "numbers = [10, 25, 5, 18, 32]\n",
        "print(\"리스트의 요소:\")\n",
        "for num in numbers:\n",
        "  print(num)"
      ],
      "metadata": {
        "colab": {
          "base_uri": "https://localhost:8080/"
        },
        "id": "TAB14OPflLmR",
        "outputId": "19c5b2f7-0401-42ee-c4f1-af143a5dcb9c"
      },
      "execution_count": 46,
      "outputs": [
        {
          "output_type": "stream",
          "name": "stdout",
          "text": [
            "리스트의 요소:\n",
            "10\n",
            "25\n",
            "5\n",
            "18\n",
            "32\n"
          ]
        }
      ]
    },
    {
      "cell_type": "code",
      "source": [
        "count = 0\n",
        "print(\"0부터 9까지 출력:\")\n",
        "while count < 10:\n",
        "  print(count)\n",
        "  count += 1\n",
        "print(\"while루프 종료\")"
      ],
      "metadata": {
        "colab": {
          "base_uri": "https://localhost:8080/"
        },
        "id": "BwHq29Kro-rA",
        "outputId": "691fcc13-8321-4da2-958e-e838fe4fd9f3"
      },
      "execution_count": 47,
      "outputs": [
        {
          "output_type": "stream",
          "name": "stdout",
          "text": [
            "0부터 9까지 출력:\n",
            "0\n",
            "1\n",
            "2\n",
            "3\n",
            "4\n",
            "5\n",
            "6\n",
            "7\n",
            "8\n",
            "9\n",
            "while루프 종료\n"
          ]
        }
      ]
    },
    {
      "cell_type": "code",
      "source": [
        "print(\"0부터 9까지 출력:\")\n",
        "for i in range(10):\n",
        "  print(i)\n",
        "print(\"for 루프 종료\")"
      ],
      "metadata": {
        "colab": {
          "base_uri": "https://localhost:8080/"
        },
        "id": "diU_KZdvqZZ-",
        "outputId": "9ad32c31-706a-490f-df2d-47b527b5cc7b"
      },
      "execution_count": 48,
      "outputs": [
        {
          "output_type": "stream",
          "name": "stdout",
          "text": [
            "0부터 9까지 출력:\n",
            "0\n",
            "1\n",
            "2\n",
            "3\n",
            "4\n",
            "5\n",
            "6\n",
            "7\n",
            "8\n",
            "9\n",
            "for 루프 종료\n"
          ]
        }
      ]
    }
  ]
}