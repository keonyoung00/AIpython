{
 "cells": [
  {
   "cell_type": "code",
   "execution_count": 1,
   "id": "96534a27-5f4c-475e-bb2b-8157b3e5cbbf",
   "metadata": {},
   "outputs": [
    {
     "name": "stdin",
     "output_type": "stream",
     "text": [
      "섭씨 온도:  32\n"
     ]
    },
    {
     "name": "stdout",
     "output_type": "stream",
     "text": [
      "화씨 온도: 89.6\n"
     ]
    }
   ],
   "source": [
    "celsius = int(input(\"섭씨 온도: \"))\n",
    "fahrenheit = celsius * 9 / 5 + 32\n",
    "print(f\"화씨 온도: {fahrenheit}\")"
   ]
  },
  {
   "cell_type": "code",
   "execution_count": 9,
   "id": "8853f7db-0c0f-4072-b0fd-95e865709c99",
   "metadata": {},
   "outputs": [
    {
     "name": "stdin",
     "output_type": "stream",
     "text": [
      "온도 종류(섭씨 또는 화씨) 화씨\n",
      "화씨 온도:  92\n"
     ]
    },
    {
     "name": "stdout",
     "output_type": "stream",
     "text": [
      "섭씨 온도: 33.33\n"
     ]
    }
   ],
   "source": [
    "kind = input(\"온도 종류(섭씨 또는 화씨)\")\n",
    "temp = int(input(f\"{kind} 온도: \"))\n",
    "if kind == \"섭씨\":\n",
    "    new_temp = temp * 9 / 5 + 32\n",
    "    print(f\"화씨 온도: {new_temp:.2f}\")    \n",
    "else:\n",
    "    new_temp = (temp - 32) * 5 / 9\n",
    "    print(f\"섭씨 온도: {new_temp:.2f}\")"
   ]
  },
  {
   "cell_type": "code",
   "execution_count": 17,
   "id": "727664d3-550c-4f06-975b-be0f66d22fe7",
   "metadata": {},
   "outputs": [
    {
     "name": "stdout",
     "output_type": "stream",
     "text": [
      "1부터 100까지 수 하나를 정했습니다.\n",
      "이 수를 맞혀보세요\n"
     ]
    },
    {
     "name": "stdin",
     "output_type": "stream",
     "text": [
      "1~100 숫자 입력:  50\n"
     ]
    },
    {
     "name": "stdout",
     "output_type": "stream",
     "text": [
      "50 보다 큽니다.\n"
     ]
    },
    {
     "name": "stdin",
     "output_type": "stream",
     "text": [
      "1~100 숫자 입력:  75\n"
     ]
    },
    {
     "name": "stdout",
     "output_type": "stream",
     "text": [
      "75 보다 큽니다.\n"
     ]
    },
    {
     "name": "stdin",
     "output_type": "stream",
     "text": [
      "1~100 숫자 입력:  87\n"
     ]
    },
    {
     "name": "stdout",
     "output_type": "stream",
     "text": [
      "87 보다 작습니다.\n"
     ]
    },
    {
     "name": "stdin",
     "output_type": "stream",
     "text": [
      "1~100 숫자 입력:  81\n"
     ]
    },
    {
     "name": "stdout",
     "output_type": "stream",
     "text": [
      "81 보다 작습니다.\n"
     ]
    },
    {
     "name": "stdin",
     "output_type": "stream",
     "text": [
      "1~100 숫자 입력:  78\n"
     ]
    },
    {
     "name": "stdout",
     "output_type": "stream",
     "text": [
      "78 보다 큽니다.\n"
     ]
    },
    {
     "name": "stdin",
     "output_type": "stream",
     "text": [
      "1~100 숫자 입력:  79\n"
     ]
    },
    {
     "name": "stdout",
     "output_type": "stream",
     "text": [
      "79 보다 큽니다.\n"
     ]
    },
    {
     "name": "stdin",
     "output_type": "stream",
     "text": [
      "1~100 숫자 입력:  80\n"
     ]
    },
    {
     "name": "stdout",
     "output_type": "stream",
     "text": [
      "정답입니다! 7회 만에 맞혔습니다.\n"
     ]
    }
   ],
   "source": [
    "import random\n",
    "\n",
    "print(\"1부터 100까지 수 하나를 정했습니다.\")\n",
    "print(\"이 수를 맞혀보세요\")\n",
    "\n",
    "answer = random.randint(1, 100)\n",
    "times = 0\n",
    "\n",
    "while True:\n",
    "    user = int(input(\"1~100 숫자 입력: \"))\n",
    "    times += 1\n",
    "    if user == answer:\n",
    "        break\n",
    "    elif user < answer:\n",
    "        print(f\"{user} 보다 큽니다.\")\n",
    "    else:\n",
    "        print(f\"{user} 보다 작습니다.\")\n",
    "\n",
    "print(f\"정답입니다! {times}회 만에 맞혔습니다.\")"
   ]
  },
  {
   "cell_type": "code",
   "execution_count": 35,
   "id": "67c1a1b5-4485-4b24-8faa-80429d1351bd",
   "metadata": {},
   "outputs": [
    {
     "name": "stdout",
     "output_type": "stream",
     "text": [
      "1-100 까지 숫자를 하나를 정하세요.\n",
      "이 숫자를 맞혀보겠습니다.\n"
     ]
    },
    {
     "name": "stdin",
     "output_type": "stream",
     "text": [
      "50 인가요? OK/UP/DOWN:  DOWN\n",
      "25 인가요? OK/UP/DOWN:  DOWN\n",
      "12 인가요? OK/UP/DOWN:  UP\n",
      "18 인가요? OK/UP/DOWN:  DOWN\n",
      "15 인가요? OK/UP/DOWN:  UP\n",
      "16 인가요? OK/UP/DOWN:  UP\n",
      "17 인가요? OK/UP/DOWN:  OK\n"
     ]
    },
    {
     "name": "stdout",
     "output_type": "stream",
     "text": [
      "7만에 맞혔습니다.\n"
     ]
    }
   ],
   "source": [
    "print(\"1-100 까지 숫자를 하나를 정하세요.\")\n",
    "print(\"이 숫자를 맞혀보겠습니다.\")\n",
    "\n",
    "low = 1\n",
    "high = 100\n",
    "times = 0\n",
    "\n",
    "while True:\n",
    "    num = (low + high) // 2\n",
    "    answer = input(f\"{num} 인가요? OK/UP/DOWN: \")\n",
    "    times += 1\n",
    "    if answer == \"OK\":\n",
    "        break\n",
    "    elif answer == \"UP\":\n",
    "        low = num + 1\n",
    "    elif answer == \"DOWN\":\n",
    "        high = num - 1\n",
    "    else:\n",
    "        print(\"잘못입력했습니다.\")\n",
    "print(f\"{times}만에 맞혔습니다.\")"
   ]
  },
  {
   "cell_type": "code",
   "execution_count": 63,
   "id": "c54f1684-b706-4635-a90a-1aa8c75ab338",
   "metadata": {},
   "outputs": [
    {
     "data": {
      "text/plain": [
       "[10, 41, 31, 6, 14, 22]"
      ]
     },
     "execution_count": 63,
     "metadata": {},
     "output_type": "execute_result"
    }
   ],
   "source": [
    "import random\n",
    "numbers = list(random.sample(range(1, 46), k=6))\n",
    "numbers"
   ]
  },
  {
   "cell_type": "code",
   "execution_count": 59,
   "id": "f35a6686-6b04-48dc-84ba-d9193bd5d61d",
   "metadata": {},
   "outputs": [
    {
     "name": "stdout",
     "output_type": "stream",
     "text": [
      "432 86.4\n"
     ]
    }
   ],
   "source": [
    "#제어문을 활용해서 총합과 평균을 구하시오.\n",
    "scores = [85, 92, 78, 90, 87]\n",
    "sum_scores = 0\n",
    "\n",
    "for score in scores:\n",
    "    sum_scores += score\n",
    "\n",
    "mean_scores = sum_scores / len(scores)\n",
    "\n",
    "print(sum_scores, mean_scores)"
   ]
  },
  {
   "cell_type": "code",
   "execution_count": 73,
   "id": "969ef04b-5447-4a12-8201-4e25e11be093",
   "metadata": {},
   "outputs": [
    {
     "name": "stdout",
     "output_type": "stream",
     "text": [
      "과일 리스트: ['apple', 'banana', 'strawberry', 'grape']\n"
     ]
    }
   ],
   "source": [
    "fruits = ['apple', 'banana', 'strawberry', 'grape']\n",
    "print(f\"과일 리스트: {fruits}\")"
   ]
  },
  {
   "cell_type": "code",
   "execution_count": 71,
   "id": "809ddf02-5b8e-4b6d-ab2b-35b5688d059c",
   "metadata": {},
   "outputs": [
    {
     "name": "stdout",
     "output_type": "stream",
     "text": [
      "첫 번째 과일: apple\n"
     ]
    }
   ],
   "source": [
    "first_fruit = fruits[0]\n",
    "print(f\"첫 번째 과일: {first_fruit}\")"
   ]
  },
  {
   "cell_type": "code",
   "execution_count": 75,
   "id": "47408e79-7a00-4c34-aec6-2d375aef8d74",
   "metadata": {},
   "outputs": [
    {
     "name": "stdout",
     "output_type": "stream",
     "text": [
      "마지막 과일: grape\n"
     ]
    }
   ],
   "source": [
    "last_fruit = fruits[-1]\n",
    "print(f\"마지막 과일: {last_fruit}\")"
   ]
  },
  {
   "cell_type": "code",
   "execution_count": 77,
   "id": "8903deb7-f221-487f-8dcc-1c33b1350f1e",
   "metadata": {},
   "outputs": [
    {
     "name": "stdout",
     "output_type": "stream",
     "text": [
      "['apple', 'banana', 'strawberry', 'grape', 'orange']\n"
     ]
    }
   ],
   "source": [
    "fruits.append(\"orange\")\n",
    "print(fruits)"
   ]
  },
  {
   "cell_type": "code",
   "execution_count": 81,
   "id": "39927fc0-3d28-4f67-8286-9553aa5d5ed1",
   "metadata": {},
   "outputs": [
    {
     "name": "stdout",
     "output_type": "stream",
     "text": [
      "apple\n",
      "['cherry', 'banana', 'strawberry', 'grape', 'orange']\n"
     ]
    }
   ],
   "source": [
    "fruits[0] = 'cherry'\n",
    "print(first_fruit)\n",
    "print(fruits)"
   ]
  },
  {
   "cell_type": "code",
   "execution_count": 79,
   "id": "a48316a5-2e12-4727-ab64-74fc30f06bbe",
   "metadata": {},
   "outputs": [
    {
     "name": "stdout",
     "output_type": "stream",
     "text": [
      "[1, 2, 3, 4, 5, 6]\n"
     ]
    }
   ],
   "source": [
    "list1 = [1, 2, 3]\n",
    "list2 = [4, 5, 6]\n",
    "list3 = list1 + list2\n",
    "print(list3)"
   ]
  }
 ],
 "metadata": {
  "kernelspec": {
   "display_name": "Python 3 (ipykernel)",
   "language": "python",
   "name": "python3"
  },
  "language_info": {
   "codemirror_mode": {
    "name": "ipython",
    "version": 3
   },
   "file_extension": ".py",
   "mimetype": "text/x-python",
   "name": "python",
   "nbconvert_exporter": "python",
   "pygments_lexer": "ipython3",
   "version": "3.12.7"
  }
 },
 "nbformat": 4,
 "nbformat_minor": 5
}
