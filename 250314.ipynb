{
  "nbformat": 4,
  "nbformat_minor": 0,
  "metadata": {
    "colab": {
      "provenance": []
    },
    "kernelspec": {
      "name": "python3",
      "display_name": "Python 3"
    },
    "language_info": {
      "name": "python"
    }
  },
  "cells": [
    {
      "cell_type": "code",
      "source": [
        "#반지름이 r인 원의 면적을 구하시오\n",
        "#pi값은 3.141592로 계산합니다\n",
        "#ex)반지름이 5인 원의 면적은 78.5398 입니다.\n",
        "\n",
        "def circle_area(r):\n",
        "  pi = 3.141592\n",
        "  area = pi * r * r\n",
        "  print(f\"반지름이 {r}인 원의 면적은 {area}입니다.\")\n",
        "\n",
        "circle_area(5)"
      ],
      "metadata": {
        "colab": {
          "base_uri": "https://localhost:8080/"
        },
        "id": "F2Wg09TTdkgj",
        "outputId": "dcb86246-2804-4c83-aa60-463dd934f196"
      },
      "execution_count": 20,
      "outputs": [
        {
          "output_type": "stream",
          "name": "stdout",
          "text": [
            "반지름이 5인 원의 면적은 78.5398입니다.\n"
          ]
        }
      ]
    },
    {
      "cell_type": "code",
      "source": [
        "#정수를 시간과 분으로 변환하여 출력하시오\n",
        "#ex)100분은 1시간 40분 입니다.\n",
        "\n",
        "def trans(time):\n",
        "  hour = time//60\n",
        "  min = time%60\n",
        "  print(f\"{time}분은 {hour}시간 {min}분 입니다.\")\n",
        "\n",
        "trans(100)\n"
      ],
      "metadata": {
        "colab": {
          "base_uri": "https://localhost:8080/"
        },
        "id": "pFIHq5vSd7uS",
        "outputId": "2be8057b-2bdd-4a6e-cee0-cd9d3a72099a"
      },
      "execution_count": 22,
      "outputs": [
        {
          "output_type": "stream",
          "name": "stdout",
          "text": [
            "100분은 1시간 40분 입니다.\n"
          ]
        }
      ]
    }
  ]
}