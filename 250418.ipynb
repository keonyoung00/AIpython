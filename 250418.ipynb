{
 "cells": [
  {
   "cell_type": "markdown",
   "id": "468cf078-c07d-4eea-a0e2-9235720f2f04",
   "metadata": {},
   "source": [
    "### 문제 1: 딕셔너리 생성 및 요소 접근"
   ]
  },
  {
   "cell_type": "code",
   "execution_count": 2,
   "id": "4271c28f-8f1f-4a9a-9ad9-cec244a01bbb",
   "metadata": {},
   "outputs": [],
   "source": [
    "student = {\n",
    "    \"name\": \"김민수\",\n",
    "    \"age\": 20,\n",
    "    \"major\": \"컴퓨터공학\"\n",
    "}"
   ]
  },
  {
   "cell_type": "code",
   "execution_count": 3,
   "id": "fd60c765-d214-43e7-942a-d83dbf16a080",
   "metadata": {},
   "outputs": [
    {
     "name": "stdout",
     "output_type": "stream",
     "text": [
      "학생 정보 딕셔너리: {'name': '김민수', 'age': 20, 'major': '컴퓨터공학'}\n"
     ]
    }
   ],
   "source": [
    "print(f\"학생 정보 딕셔너리: {student}\")"
   ]
  },
  {
   "cell_type": "code",
   "execution_count": 4,
   "id": "a4918c48-6aa0-48e3-8016-60ebef2b5949",
   "metadata": {},
   "outputs": [
    {
     "name": "stdout",
     "output_type": "stream",
     "text": [
      "이름: 김민수\n"
     ]
    }
   ],
   "source": [
    "name = student[\"name\"]\n",
    "print(f\"이름: {name}\")"
   ]
  },
  {
   "cell_type": "code",
   "execution_count": 5,
   "id": "812bfe3b-9edc-4ca8-a7e3-42ecbf9262ac",
   "metadata": {},
   "outputs": [
    {
     "name": "stdout",
     "output_type": "stream",
     "text": [
      "나이: 20\n"
     ]
    }
   ],
   "source": [
    "age = student[\"age\"]\n",
    "print(f\"나이: {age}\")"
   ]
  },
  {
   "cell_type": "code",
   "execution_count": 6,
   "id": "0d89a856-4927-4b14-8260-97d073a4273e",
   "metadata": {},
   "outputs": [
    {
     "name": "stdout",
     "output_type": "stream",
     "text": [
      "전공: 컴퓨터공학\n"
     ]
    }
   ],
   "source": [
    "major = student[\"major\"]\n",
    "print(f\"전공: {major}\")"
   ]
  },
  {
   "cell_type": "markdown",
   "id": "648a1b7d-6cd6-4181-a9a7-c6b812332660",
   "metadata": {},
   "source": [
    "### 문제 2: 딕셔너리 요소 추가 및 삭제"
   ]
  },
  {
   "cell_type": "code",
   "execution_count": 8,
   "id": "00495299-dd96-4697-b704-6b51ab0718f6",
   "metadata": {},
   "outputs": [
    {
     "name": "stdout",
     "output_type": "stream",
     "text": [
      "원래 학생 정보 딕셔너리: {'name': '김민수', 'age': 20, 'major': '컴퓨터공학'}\n"
     ]
    }
   ],
   "source": [
    "print(f\"원래 학생 정보 딕셔너리: {student}\")"
   ]
  },
  {
   "cell_type": "code",
   "execution_count": 9,
   "id": "3f9f21ad-717f-4041-9137-0d28fb52ebbc",
   "metadata": {},
   "outputs": [
    {
     "name": "stdout",
     "output_type": "stream",
     "text": [
      "요소 추가 후 딕셔너리: {'name': '김민수', 'age': 20, 'major': '컴퓨터공학', 'grade': 4.0}\n"
     ]
    }
   ],
   "source": [
    "student[\"grade\"] = 4.0\n",
    "print(f\"요소 추가 후 딕셔너리: {student}\")"
   ]
  },
  {
   "cell_type": "code",
   "execution_count": 10,
   "id": "8834f6dc-7555-4dc8-bb8e-6893b4585a08",
   "metadata": {},
   "outputs": [
    {
     "name": "stdout",
     "output_type": "stream",
     "text": [
      "요소 삭제 후 딕셔너리: {'name': '김민수', 'age': 20, 'grade': 4.0}\n"
     ]
    }
   ],
   "source": [
    "del student[\"major\"]\n",
    "print(f\"요소 삭제 후 딕셔너리: {student}\")"
   ]
  },
  {
   "cell_type": "markdown",
   "id": "eb381c7a-c952-4e73-b470-9af94e82c5b5",
   "metadata": {},
   "source": [
    "### 문제 3: 딕셔너리 키와 값 순회하며 출력"
   ]
  },
  {
   "cell_type": "code",
   "execution_count": 12,
   "id": "a9152988-825d-4893-9d13-52507cadf365",
   "metadata": {},
   "outputs": [],
   "source": [
    "fruit_prices = {\n",
    "    \"사과\": 1500,\n",
    "    \"바나나\": 800,\n",
    "    \"딸기\": 3000,\n",
    "    \"오렌지\": 1200\n",
    "}"
   ]
  },
  {
   "cell_type": "code",
   "execution_count": 13,
   "id": "5f84b0ec-7497-42bb-8c6b-4050be98d2dc",
   "metadata": {},
   "outputs": [
    {
     "name": "stdout",
     "output_type": "stream",
     "text": [
      "과일 가격 정보:\n",
      "사과: 1500원\n",
      "바나나: 800원\n",
      "딸기: 3000원\n",
      "오렌지: 1200원\n"
     ]
    }
   ],
   "source": [
    "print(\"과일 가격 정보:\")\n",
    "for fruit, price in fruit_prices.items():\n",
    "    print(f\"{fruit}: {price}원\")"
   ]
  },
  {
   "cell_type": "code",
   "execution_count": 14,
   "id": "7df6642d-97cd-467f-b2ff-c8e1b5c9c18b",
   "metadata": {},
   "outputs": [
    {
     "name": "stdout",
     "output_type": "stream",
     "text": [
      "\n",
      "과일 목록:\n",
      "사과\n",
      "바나나\n",
      "딸기\n",
      "오렌지\n"
     ]
    }
   ],
   "source": [
    "print(\"\\n과일 목록:\")\n",
    "for fruit in fruit_prices.keys():\n",
    "    print(fruit)"
   ]
  },
  {
   "cell_type": "code",
   "execution_count": 15,
   "id": "4aa93b50-2af4-4432-a571-db0698320ca0",
   "metadata": {},
   "outputs": [
    {
     "name": "stdout",
     "output_type": "stream",
     "text": [
      "\n",
      "가격 목록:\n",
      "1500\n",
      "800\n",
      "3000\n",
      "1200\n"
     ]
    }
   ],
   "source": [
    "print(\"\\n가격 목록:\")\n",
    "for price in fruit_prices.values():\n",
    "    print(price)"
   ]
  },
  {
   "cell_type": "markdown",
   "id": "72bf5332-0389-4dad-a4d9-7f59b82ef091",
   "metadata": {},
   "source": [
    "### 문제 4: 딕셔너리 요소 값 변경"
   ]
  },
  {
   "cell_type": "code",
   "execution_count": 17,
   "id": "d64551ee-25cb-4eac-9839-9eb94b4c85d2",
   "metadata": {},
   "outputs": [
    {
     "name": "stdout",
     "output_type": "stream",
     "text": [
      "원래 과일 가격 딕셔너리: {'사과': 1500, '바나나': 800, '딸기': 3000, '오렌지': 1200}\n"
     ]
    }
   ],
   "source": [
    "print(f\"원래 과일 가격 딕셔너리: {fruit_prices}\")"
   ]
  },
  {
   "cell_type": "code",
   "execution_count": 18,
   "id": "5cd2a69d-431b-48c4-aad0-e7c40627e8a5",
   "metadata": {},
   "outputs": [
    {
     "name": "stdout",
     "output_type": "stream",
     "text": [
      "가격 변경 후 과일 가격 딕셔너리: {'사과': 1800, '바나나': 800, '딸기': 3000, '오렌지': 1200}\n"
     ]
    }
   ],
   "source": [
    "fruit_prices[\"사과\"] = 1800\n",
    "print(f\"가격 변경 후 과일 가격 딕셔너리: {fruit_prices}\")"
   ]
  },
  {
   "cell_type": "markdown",
   "id": "2d7bff5b-7e09-478a-bfca-8b5cd411bac4",
   "metadata": {},
   "source": [
    "### 문제 5: 두 개의 딕셔너리 합치기"
   ]
  },
  {
   "cell_type": "code",
   "execution_count": 20,
   "id": "0f404cbb-f10f-47c5-8e5d-78764e720259",
   "metadata": {},
   "outputs": [],
   "source": [
    "dict1 = {\"a\": 1, \"b\": 2, \"c\": 3}\n",
    "dict2 = {\"b\": 4, \"d\": 5}"
   ]
  },
  {
   "cell_type": "code",
   "execution_count": 21,
   "id": "622a5f0f-e0d1-4b88-a706-b9cd1611202f",
   "metadata": {},
   "outputs": [
    {
     "name": "stdout",
     "output_type": "stream",
     "text": [
      "첫 번째 딕셔너리: {'a': 1, 'b': 2, 'c': 3}\n",
      "두 번째 딕셔너리: {'b': 4, 'd': 5}\n"
     ]
    }
   ],
   "source": [
    "print(f\"첫 번째 딕셔너리: {dict1}\")\n",
    "print(f\"두 번째 딕셔너리: {dict2}\")"
   ]
  },
  {
   "cell_type": "code",
   "execution_count": 22,
   "id": "94a49b0d-dffd-4896-b098-0a4eb13e6585",
   "metadata": {},
   "outputs": [],
   "source": [
    "dict1.update(dict2)"
   ]
  },
  {
   "cell_type": "code",
   "execution_count": 23,
   "id": "960982da-9d8f-4c57-b02a-e0a340349e1c",
   "metadata": {},
   "outputs": [
    {
     "name": "stdout",
     "output_type": "stream",
     "text": [
      "두 딕셔너리 합치기 update() 결과: {'a': 1, 'b': 4, 'c': 3, 'd': 5}\n"
     ]
    }
   ],
   "source": [
    "print(f\"두 딕셔너리 합치기 update() 결과: {dict1}\")"
   ]
  },
  {
   "cell_type": "code",
   "execution_count": 24,
   "id": "9b5ba429-1995-4144-bd74-cb876095ce7f",
   "metadata": {},
   "outputs": [
    {
     "name": "stdin",
     "output_type": "stream",
     "text": [
      " 1 2\n"
     ]
    },
    {
     "name": "stdout",
     "output_type": "stream",
     "text": [
      "3\n"
     ]
    }
   ],
   "source": [
    "A, B = map(int, input().split())\n",
    "print(A + B)"
   ]
  }
 ],
 "metadata": {
  "kernelspec": {
   "display_name": "Python 3 (ipykernel)",
   "language": "python",
   "name": "python3"
  },
  "language_info": {
   "codemirror_mode": {
    "name": "ipython",
    "version": 3
   },
   "file_extension": ".py",
   "mimetype": "text/x-python",
   "name": "python",
   "nbconvert_exporter": "python",
   "pygments_lexer": "ipython3",
   "version": "3.12.7"
  }
 },
 "nbformat": 4,
 "nbformat_minor": 5
}
