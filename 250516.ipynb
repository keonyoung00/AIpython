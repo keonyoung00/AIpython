{
 "cells": [
  {
   "cell_type": "code",
   "execution_count": 193,
   "id": "339f8410-d5ff-4c6d-9440-9c780399ee5b",
   "metadata": {},
   "outputs": [],
   "source": [
    "import pandas as pd"
   ]
  },
  {
   "cell_type": "code",
   "execution_count": 194,
   "id": "7339ed01-e537-4316-822f-ddeac7a1dcdd",
   "metadata": {},
   "outputs": [],
   "source": [
    "import numpy as np"
   ]
  },
  {
   "cell_type": "code",
   "execution_count": 195,
   "id": "b0310181-073b-44fb-a224-ebda5a6b6fe4",
   "metadata": {},
   "outputs": [],
   "source": [
    "import os"
   ]
  },
  {
   "cell_type": "code",
   "execution_count": 196,
   "id": "da958ed3-3d26-435c-8085-457f9b5c5e2a",
   "metadata": {},
   "outputs": [
    {
     "data": {
      "text/plain": [
       "'C:\\\\Users\\\\moonk'"
      ]
     },
     "execution_count": 196,
     "metadata": {},
     "output_type": "execute_result"
    }
   ],
   "source": [
    "os.getcwd()"
   ]
  },
  {
   "cell_type": "markdown",
   "id": "86ed0d42-0076-4aed-b1a7-a07e1d70678c",
   "metadata": {},
   "source": [
    "### 1번"
   ]
  },
  {
   "cell_type": "code",
   "execution_count": 198,
   "id": "ea539db0-8f59-4070-abd4-1fa17090a86c",
   "metadata": {},
   "outputs": [],
   "source": [
    "data = pd.read_csv('example_data.csv')"
   ]
  },
  {
   "cell_type": "code",
   "execution_count": 199,
   "id": "8eebc344-3e48-482b-9e65-ec8e52932674",
   "metadata": {
    "scrolled": true
   },
   "outputs": [
    {
     "data": {
      "text/html": [
       "<div>\n",
       "<style scoped>\n",
       "    .dataframe tbody tr th:only-of-type {\n",
       "        vertical-align: middle;\n",
       "    }\n",
       "\n",
       "    .dataframe tbody tr th {\n",
       "        vertical-align: top;\n",
       "    }\n",
       "\n",
       "    .dataframe thead th {\n",
       "        text-align: right;\n",
       "    }\n",
       "</style>\n",
       "<table border=\"1\" class=\"dataframe\">\n",
       "  <thead>\n",
       "    <tr style=\"text-align: right;\">\n",
       "      <th></th>\n",
       "      <th>학번</th>\n",
       "      <th>이름</th>\n",
       "      <th>학년</th>\n",
       "      <th>점수</th>\n",
       "      <th>분반</th>\n",
       "      <th>공부시간</th>\n",
       "    </tr>\n",
       "  </thead>\n",
       "  <tbody>\n",
       "    <tr>\n",
       "      <th>0</th>\n",
       "      <td>1</td>\n",
       "      <td>신사임당</td>\n",
       "      <td>NaN</td>\n",
       "      <td>69</td>\n",
       "      <td>B</td>\n",
       "      <td>4</td>\n",
       "    </tr>\n",
       "    <tr>\n",
       "      <th>1</th>\n",
       "      <td>2</td>\n",
       "      <td>홍길동</td>\n",
       "      <td>1.0</td>\n",
       "      <td>92</td>\n",
       "      <td>B</td>\n",
       "      <td>3</td>\n",
       "    </tr>\n",
       "    <tr>\n",
       "      <th>2</th>\n",
       "      <td>3</td>\n",
       "      <td>강감찬</td>\n",
       "      <td>4.0</td>\n",
       "      <td>91</td>\n",
       "      <td>C</td>\n",
       "      <td>20</td>\n",
       "    </tr>\n",
       "    <tr>\n",
       "      <th>3</th>\n",
       "      <td>4</td>\n",
       "      <td>강감찬</td>\n",
       "      <td>2.0</td>\n",
       "      <td>70</td>\n",
       "      <td>C</td>\n",
       "      <td>5</td>\n",
       "    </tr>\n",
       "    <tr>\n",
       "      <th>4</th>\n",
       "      <td>5</td>\n",
       "      <td>강감찬</td>\n",
       "      <td>3.0</td>\n",
       "      <td>83</td>\n",
       "      <td>C</td>\n",
       "      <td>5</td>\n",
       "    </tr>\n",
       "    <tr>\n",
       "      <th>5</th>\n",
       "      <td>6</td>\n",
       "      <td>이순신</td>\n",
       "      <td>4.0</td>\n",
       "      <td>95</td>\n",
       "      <td>A</td>\n",
       "      <td>0</td>\n",
       "    </tr>\n",
       "    <tr>\n",
       "      <th>6</th>\n",
       "      <td>7</td>\n",
       "      <td>강감찬</td>\n",
       "      <td>4.0</td>\n",
       "      <td>71</td>\n",
       "      <td>C</td>\n",
       "      <td>1</td>\n",
       "    </tr>\n",
       "    <tr>\n",
       "      <th>7</th>\n",
       "      <td>8</td>\n",
       "      <td>김유신</td>\n",
       "      <td>NaN</td>\n",
       "      <td>88</td>\n",
       "      <td>B</td>\n",
       "      <td>5</td>\n",
       "    </tr>\n",
       "    <tr>\n",
       "      <th>8</th>\n",
       "      <td>9</td>\n",
       "      <td>신사임당</td>\n",
       "      <td>3.0</td>\n",
       "      <td>94</td>\n",
       "      <td>A</td>\n",
       "      <td>9</td>\n",
       "    </tr>\n",
       "    <tr>\n",
       "      <th>9</th>\n",
       "      <td>10</td>\n",
       "      <td>홍길동</td>\n",
       "      <td>NaN</td>\n",
       "      <td>60</td>\n",
       "      <td>B</td>\n",
       "      <td>3</td>\n",
       "    </tr>\n",
       "    <tr>\n",
       "      <th>10</th>\n",
       "      <td>11</td>\n",
       "      <td>NaN</td>\n",
       "      <td>1.0</td>\n",
       "      <td>200</td>\n",
       "      <td>C</td>\n",
       "      <td>0</td>\n",
       "    </tr>\n",
       "    <tr>\n",
       "      <th>11</th>\n",
       "      <td>12</td>\n",
       "      <td>신사임당</td>\n",
       "      <td>2.0</td>\n",
       "      <td>96</td>\n",
       "      <td>A</td>\n",
       "      <td>20</td>\n",
       "    </tr>\n",
       "    <tr>\n",
       "      <th>12</th>\n",
       "      <td>13</td>\n",
       "      <td>김유신</td>\n",
       "      <td>4.0</td>\n",
       "      <td>65</td>\n",
       "      <td>A</td>\n",
       "      <td>0</td>\n",
       "    </tr>\n",
       "    <tr>\n",
       "      <th>13</th>\n",
       "      <td>14</td>\n",
       "      <td>NaN</td>\n",
       "      <td>2.0</td>\n",
       "      <td>98</td>\n",
       "      <td>C</td>\n",
       "      <td>1</td>\n",
       "    </tr>\n",
       "    <tr>\n",
       "      <th>14</th>\n",
       "      <td>15</td>\n",
       "      <td>홍길동</td>\n",
       "      <td>4.0</td>\n",
       "      <td>77</td>\n",
       "      <td>A</td>\n",
       "      <td>2</td>\n",
       "    </tr>\n",
       "    <tr>\n",
       "      <th>15</th>\n",
       "      <td>16</td>\n",
       "      <td>이순신</td>\n",
       "      <td>4.0</td>\n",
       "      <td>75</td>\n",
       "      <td>A</td>\n",
       "      <td>4</td>\n",
       "    </tr>\n",
       "    <tr>\n",
       "      <th>16</th>\n",
       "      <td>17</td>\n",
       "      <td>NaN</td>\n",
       "      <td>3.0</td>\n",
       "      <td>64</td>\n",
       "      <td>A</td>\n",
       "      <td>2</td>\n",
       "    </tr>\n",
       "    <tr>\n",
       "      <th>17</th>\n",
       "      <td>18</td>\n",
       "      <td>홍길동</td>\n",
       "      <td>4.0</td>\n",
       "      <td>91</td>\n",
       "      <td>A</td>\n",
       "      <td>0</td>\n",
       "    </tr>\n",
       "    <tr>\n",
       "      <th>18</th>\n",
       "      <td>19</td>\n",
       "      <td>이순신</td>\n",
       "      <td>1.0</td>\n",
       "      <td>200</td>\n",
       "      <td>A</td>\n",
       "      <td>3</td>\n",
       "    </tr>\n",
       "    <tr>\n",
       "      <th>19</th>\n",
       "      <td>20</td>\n",
       "      <td>신사임당</td>\n",
       "      <td>2.0</td>\n",
       "      <td>61</td>\n",
       "      <td>A</td>\n",
       "      <td>2</td>\n",
       "    </tr>\n",
       "    <tr>\n",
       "      <th>20</th>\n",
       "      <td>20</td>\n",
       "      <td>신사임당</td>\n",
       "      <td>2.0</td>\n",
       "      <td>61</td>\n",
       "      <td>A</td>\n",
       "      <td>2</td>\n",
       "    </tr>\n",
       "  </tbody>\n",
       "</table>\n",
       "</div>"
      ],
      "text/plain": [
       "    학번    이름   학년   점수 분반  공부시간\n",
       "0    1  신사임당  NaN   69  B     4\n",
       "1    2   홍길동  1.0   92  B     3\n",
       "2    3   강감찬  4.0   91  C    20\n",
       "3    4   강감찬  2.0   70  C     5\n",
       "4    5   강감찬  3.0   83  C     5\n",
       "5    6   이순신  4.0   95  A     0\n",
       "6    7   강감찬  4.0   71  C     1\n",
       "7    8   김유신  NaN   88  B     5\n",
       "8    9  신사임당  3.0   94  A     9\n",
       "9   10   홍길동  NaN   60  B     3\n",
       "10  11   NaN  1.0  200  C     0\n",
       "11  12  신사임당  2.0   96  A    20\n",
       "12  13   김유신  4.0   65  A     0\n",
       "13  14   NaN  2.0   98  C     1\n",
       "14  15   홍길동  4.0   77  A     2\n",
       "15  16   이순신  4.0   75  A     4\n",
       "16  17   NaN  3.0   64  A     2\n",
       "17  18   홍길동  4.0   91  A     0\n",
       "18  19   이순신  1.0  200  A     3\n",
       "19  20  신사임당  2.0   61  A     2\n",
       "20  20  신사임당  2.0   61  A     2"
      ]
     },
     "execution_count": 199,
     "metadata": {},
     "output_type": "execute_result"
    }
   ],
   "source": [
    "data"
   ]
  },
  {
   "cell_type": "code",
   "execution_count": 200,
   "id": "4b058128-d43b-4a47-bf67-afae3e9e0bf8",
   "metadata": {},
   "outputs": [
    {
     "data": {
      "text/plain": [
       "Index(['학번', '이름', '학년', '점수', '분반', '공부시간'], dtype='object')"
      ]
     },
     "execution_count": 200,
     "metadata": {},
     "output_type": "execute_result"
    }
   ],
   "source": [
    "data.columns"
   ]
  },
  {
   "cell_type": "markdown",
   "id": "768b812e-15d6-4a84-90b9-edfa7ad266eb",
   "metadata": {},
   "source": [
    "### 2번"
   ]
  },
  {
   "cell_type": "code",
   "execution_count": 202,
   "id": "15ab3d8c-e564-4ed2-95d7-74304bf57b6f",
   "metadata": {},
   "outputs": [
    {
     "name": "stdout",
     "output_type": "stream",
     "text": [
      "<class 'pandas.core.frame.DataFrame'>\n",
      "RangeIndex: 21 entries, 0 to 20\n",
      "Data columns (total 6 columns):\n",
      " #   Column  Non-Null Count  Dtype  \n",
      "---  ------  --------------  -----  \n",
      " 0   학번      21 non-null     int64  \n",
      " 1   이름      18 non-null     object \n",
      " 2   학년      18 non-null     float64\n",
      " 3   점수      21 non-null     int64  \n",
      " 4   분반      21 non-null     object \n",
      " 5   공부시간    21 non-null     int64  \n",
      "dtypes: float64(1), int64(3), object(2)\n",
      "memory usage: 1.1+ KB\n"
     ]
    }
   ],
   "source": [
    "data.info()"
   ]
  },
  {
   "cell_type": "markdown",
   "id": "ff8f7ba4-76d9-432f-8b54-e304899e8909",
   "metadata": {},
   "source": [
    "### 3번"
   ]
  },
  {
   "cell_type": "code",
   "execution_count": 204,
   "id": "585b6e2c-64e6-48d8-8978-d32953424d53",
   "metadata": {},
   "outputs": [
    {
     "data": {
      "text/html": [
       "<div>\n",
       "<style scoped>\n",
       "    .dataframe tbody tr th:only-of-type {\n",
       "        vertical-align: middle;\n",
       "    }\n",
       "\n",
       "    .dataframe tbody tr th {\n",
       "        vertical-align: top;\n",
       "    }\n",
       "\n",
       "    .dataframe thead th {\n",
       "        text-align: right;\n",
       "    }\n",
       "</style>\n",
       "<table border=\"1\" class=\"dataframe\">\n",
       "  <thead>\n",
       "    <tr style=\"text-align: right;\">\n",
       "      <th></th>\n",
       "      <th>학번</th>\n",
       "      <th>학년</th>\n",
       "      <th>점수</th>\n",
       "      <th>공부시간</th>\n",
       "    </tr>\n",
       "  </thead>\n",
       "  <tbody>\n",
       "    <tr>\n",
       "      <th>count</th>\n",
       "      <td>21.000000</td>\n",
       "      <td>18.000000</td>\n",
       "      <td>21.000000</td>\n",
       "      <td>21.000000</td>\n",
       "    </tr>\n",
       "    <tr>\n",
       "      <th>mean</th>\n",
       "      <td>10.952381</td>\n",
       "      <td>2.777778</td>\n",
       "      <td>90.523810</td>\n",
       "      <td>4.333333</td>\n",
       "    </tr>\n",
       "    <tr>\n",
       "      <th>std</th>\n",
       "      <td>6.127611</td>\n",
       "      <td>1.165966</td>\n",
       "      <td>38.647922</td>\n",
       "      <td>5.650959</td>\n",
       "    </tr>\n",
       "    <tr>\n",
       "      <th>min</th>\n",
       "      <td>1.000000</td>\n",
       "      <td>1.000000</td>\n",
       "      <td>60.000000</td>\n",
       "      <td>0.000000</td>\n",
       "    </tr>\n",
       "    <tr>\n",
       "      <th>25%</th>\n",
       "      <td>6.000000</td>\n",
       "      <td>2.000000</td>\n",
       "      <td>69.000000</td>\n",
       "      <td>1.000000</td>\n",
       "    </tr>\n",
       "    <tr>\n",
       "      <th>50%</th>\n",
       "      <td>11.000000</td>\n",
       "      <td>3.000000</td>\n",
       "      <td>83.000000</td>\n",
       "      <td>3.000000</td>\n",
       "    </tr>\n",
       "    <tr>\n",
       "      <th>75%</th>\n",
       "      <td>16.000000</td>\n",
       "      <td>4.000000</td>\n",
       "      <td>94.000000</td>\n",
       "      <td>5.000000</td>\n",
       "    </tr>\n",
       "    <tr>\n",
       "      <th>max</th>\n",
       "      <td>20.000000</td>\n",
       "      <td>4.000000</td>\n",
       "      <td>200.000000</td>\n",
       "      <td>20.000000</td>\n",
       "    </tr>\n",
       "  </tbody>\n",
       "</table>\n",
       "</div>"
      ],
      "text/plain": [
       "              학번         학년          점수       공부시간\n",
       "count  21.000000  18.000000   21.000000  21.000000\n",
       "mean   10.952381   2.777778   90.523810   4.333333\n",
       "std     6.127611   1.165966   38.647922   5.650959\n",
       "min     1.000000   1.000000   60.000000   0.000000\n",
       "25%     6.000000   2.000000   69.000000   1.000000\n",
       "50%    11.000000   3.000000   83.000000   3.000000\n",
       "75%    16.000000   4.000000   94.000000   5.000000\n",
       "max    20.000000   4.000000  200.000000  20.000000"
      ]
     },
     "execution_count": 204,
     "metadata": {},
     "output_type": "execute_result"
    }
   ],
   "source": [
    "data.describe()"
   ]
  },
  {
   "cell_type": "markdown",
   "id": "5b83c867-0aea-4aac-8198-149ec9b14da3",
   "metadata": {},
   "source": [
    "### 4번"
   ]
  },
  {
   "cell_type": "code",
   "execution_count": 206,
   "id": "2a96fe15-8b0d-4d7f-b521-8c4cfbde573f",
   "metadata": {},
   "outputs": [
    {
     "data": {
      "text/plain": [
       "학번      0\n",
       "이름      3\n",
       "학년      3\n",
       "점수      0\n",
       "분반      0\n",
       "공부시간    0\n",
       "dtype: int64"
      ]
     },
     "execution_count": 206,
     "metadata": {},
     "output_type": "execute_result"
    }
   ],
   "source": [
    "data.isna().sum()"
   ]
  },
  {
   "cell_type": "markdown",
   "id": "78afedf8-87f4-4b9e-8747-196a4a71be38",
   "metadata": {},
   "source": [
    "### 5번"
   ]
  },
  {
   "cell_type": "code",
   "execution_count": 208,
   "id": "ec1e186d-f247-460b-a4ec-884d7ba5ed16",
   "metadata": {},
   "outputs": [],
   "source": [
    "outlier = (data['점수'] > 100) | (data['공부시간'] > 10)"
   ]
  },
  {
   "cell_type": "code",
   "execution_count": 209,
   "id": "bd3ab7c6-23ee-4079-9941-1e97c9ed28f7",
   "metadata": {},
   "outputs": [
    {
     "data": {
      "text/plain": [
       "4"
      ]
     },
     "execution_count": 209,
     "metadata": {},
     "output_type": "execute_result"
    }
   ],
   "source": [
    "outlier.sum()"
   ]
  },
  {
   "cell_type": "code",
   "execution_count": 210,
   "id": "0fbd692a-8e01-4d05-b0bd-27e353b7167c",
   "metadata": {},
   "outputs": [
    {
     "data": {
      "text/html": [
       "<div>\n",
       "<style scoped>\n",
       "    .dataframe tbody tr th:only-of-type {\n",
       "        vertical-align: middle;\n",
       "    }\n",
       "\n",
       "    .dataframe tbody tr th {\n",
       "        vertical-align: top;\n",
       "    }\n",
       "\n",
       "    .dataframe thead th {\n",
       "        text-align: right;\n",
       "    }\n",
       "</style>\n",
       "<table border=\"1\" class=\"dataframe\">\n",
       "  <thead>\n",
       "    <tr style=\"text-align: right;\">\n",
       "      <th></th>\n",
       "      <th>학번</th>\n",
       "      <th>이름</th>\n",
       "      <th>학년</th>\n",
       "      <th>점수</th>\n",
       "      <th>분반</th>\n",
       "      <th>공부시간</th>\n",
       "    </tr>\n",
       "  </thead>\n",
       "  <tbody>\n",
       "    <tr>\n",
       "      <th>2</th>\n",
       "      <td>3</td>\n",
       "      <td>강감찬</td>\n",
       "      <td>4.0</td>\n",
       "      <td>91</td>\n",
       "      <td>C</td>\n",
       "      <td>20</td>\n",
       "    </tr>\n",
       "    <tr>\n",
       "      <th>10</th>\n",
       "      <td>11</td>\n",
       "      <td>NaN</td>\n",
       "      <td>1.0</td>\n",
       "      <td>200</td>\n",
       "      <td>C</td>\n",
       "      <td>0</td>\n",
       "    </tr>\n",
       "    <tr>\n",
       "      <th>11</th>\n",
       "      <td>12</td>\n",
       "      <td>신사임당</td>\n",
       "      <td>2.0</td>\n",
       "      <td>96</td>\n",
       "      <td>A</td>\n",
       "      <td>20</td>\n",
       "    </tr>\n",
       "    <tr>\n",
       "      <th>18</th>\n",
       "      <td>19</td>\n",
       "      <td>이순신</td>\n",
       "      <td>1.0</td>\n",
       "      <td>200</td>\n",
       "      <td>A</td>\n",
       "      <td>3</td>\n",
       "    </tr>\n",
       "  </tbody>\n",
       "</table>\n",
       "</div>"
      ],
      "text/plain": [
       "    학번    이름   학년   점수 분반  공부시간\n",
       "2    3   강감찬  4.0   91  C    20\n",
       "10  11   NaN  1.0  200  C     0\n",
       "11  12  신사임당  2.0   96  A    20\n",
       "18  19   이순신  1.0  200  A     3"
      ]
     },
     "execution_count": 210,
     "metadata": {},
     "output_type": "execute_result"
    }
   ],
   "source": [
    "data[outlier]"
   ]
  },
  {
   "cell_type": "markdown",
   "id": "4871bf12-c933-4bc0-83c3-9458e6dedd8c",
   "metadata": {},
   "source": [
    "### 6번"
   ]
  },
  {
   "cell_type": "code",
   "execution_count": 212,
   "id": "f1849f99-57c0-4a7e-a7fc-819d54561af0",
   "metadata": {},
   "outputs": [
    {
     "data": {
      "text/plain": [
       "0     False\n",
       "1     False\n",
       "2     False\n",
       "3     False\n",
       "4     False\n",
       "5     False\n",
       "6     False\n",
       "7     False\n",
       "8     False\n",
       "9     False\n",
       "10    False\n",
       "11    False\n",
       "12    False\n",
       "13    False\n",
       "14    False\n",
       "15    False\n",
       "16    False\n",
       "17    False\n",
       "18    False\n",
       "19    False\n",
       "20     True\n",
       "dtype: bool"
      ]
     },
     "execution_count": 212,
     "metadata": {},
     "output_type": "execute_result"
    }
   ],
   "source": [
    "data.duplicated()"
   ]
  },
  {
   "cell_type": "code",
   "execution_count": 213,
   "id": "ea5a47f6-de73-4e0e-9649-7e96889b772d",
   "metadata": {},
   "outputs": [
    {
     "data": {
      "text/plain": [
       "0     False\n",
       "1     False\n",
       "2     False\n",
       "3     False\n",
       "4     False\n",
       "5     False\n",
       "6     False\n",
       "7     False\n",
       "8     False\n",
       "9     False\n",
       "10    False\n",
       "11    False\n",
       "12    False\n",
       "13    False\n",
       "14    False\n",
       "15    False\n",
       "16    False\n",
       "17    False\n",
       "18    False\n",
       "19     True\n",
       "20     True\n",
       "dtype: bool"
      ]
     },
     "execution_count": 213,
     "metadata": {},
     "output_type": "execute_result"
    }
   ],
   "source": [
    "data.duplicated(keep=False)"
   ]
  },
  {
   "cell_type": "code",
   "execution_count": 214,
   "id": "065703df-6d51-4630-b098-0c5bead50b04",
   "metadata": {},
   "outputs": [
    {
     "data": {
      "text/html": [
       "<div>\n",
       "<style scoped>\n",
       "    .dataframe tbody tr th:only-of-type {\n",
       "        vertical-align: middle;\n",
       "    }\n",
       "\n",
       "    .dataframe tbody tr th {\n",
       "        vertical-align: top;\n",
       "    }\n",
       "\n",
       "    .dataframe thead th {\n",
       "        text-align: right;\n",
       "    }\n",
       "</style>\n",
       "<table border=\"1\" class=\"dataframe\">\n",
       "  <thead>\n",
       "    <tr style=\"text-align: right;\">\n",
       "      <th></th>\n",
       "      <th>학번</th>\n",
       "      <th>이름</th>\n",
       "      <th>학년</th>\n",
       "      <th>점수</th>\n",
       "      <th>분반</th>\n",
       "      <th>공부시간</th>\n",
       "    </tr>\n",
       "  </thead>\n",
       "  <tbody>\n",
       "    <tr>\n",
       "      <th>19</th>\n",
       "      <td>20</td>\n",
       "      <td>신사임당</td>\n",
       "      <td>2.0</td>\n",
       "      <td>61</td>\n",
       "      <td>A</td>\n",
       "      <td>2</td>\n",
       "    </tr>\n",
       "    <tr>\n",
       "      <th>20</th>\n",
       "      <td>20</td>\n",
       "      <td>신사임당</td>\n",
       "      <td>2.0</td>\n",
       "      <td>61</td>\n",
       "      <td>A</td>\n",
       "      <td>2</td>\n",
       "    </tr>\n",
       "  </tbody>\n",
       "</table>\n",
       "</div>"
      ],
      "text/plain": [
       "    학번    이름   학년  점수 분반  공부시간\n",
       "19  20  신사임당  2.0  61  A     2\n",
       "20  20  신사임당  2.0  61  A     2"
      ]
     },
     "execution_count": 214,
     "metadata": {},
     "output_type": "execute_result"
    }
   ],
   "source": [
    "data[data.duplicated(keep=False)]"
   ]
  },
  {
   "cell_type": "markdown",
   "id": "85bb38d1-fa43-47e7-9257-d0239739e7a9",
   "metadata": {},
   "source": [
    "### 7번"
   ]
  },
  {
   "cell_type": "code",
   "execution_count": 216,
   "id": "ae520635-ef7f-4951-88ea-17ae57275b8e",
   "metadata": {
    "scrolled": true
   },
   "outputs": [
    {
     "data": {
      "text/html": [
       "<div>\n",
       "<style scoped>\n",
       "    .dataframe tbody tr th:only-of-type {\n",
       "        vertical-align: middle;\n",
       "    }\n",
       "\n",
       "    .dataframe tbody tr th {\n",
       "        vertical-align: top;\n",
       "    }\n",
       "\n",
       "    .dataframe thead th {\n",
       "        text-align: right;\n",
       "    }\n",
       "</style>\n",
       "<table border=\"1\" class=\"dataframe\">\n",
       "  <thead>\n",
       "    <tr style=\"text-align: right;\">\n",
       "      <th></th>\n",
       "      <th>학번</th>\n",
       "      <th>이름</th>\n",
       "      <th>학년</th>\n",
       "      <th>점수</th>\n",
       "      <th>분반</th>\n",
       "      <th>공부시간</th>\n",
       "    </tr>\n",
       "  </thead>\n",
       "  <tbody>\n",
       "    <tr>\n",
       "      <th>0</th>\n",
       "      <td>1</td>\n",
       "      <td>신사임당</td>\n",
       "      <td>NaN</td>\n",
       "      <td>69</td>\n",
       "      <td>B</td>\n",
       "      <td>4</td>\n",
       "    </tr>\n",
       "    <tr>\n",
       "      <th>1</th>\n",
       "      <td>2</td>\n",
       "      <td>홍길동</td>\n",
       "      <td>1.0</td>\n",
       "      <td>92</td>\n",
       "      <td>B</td>\n",
       "      <td>3</td>\n",
       "    </tr>\n",
       "    <tr>\n",
       "      <th>2</th>\n",
       "      <td>3</td>\n",
       "      <td>강감찬</td>\n",
       "      <td>4.0</td>\n",
       "      <td>91</td>\n",
       "      <td>C</td>\n",
       "      <td>20</td>\n",
       "    </tr>\n",
       "    <tr>\n",
       "      <th>3</th>\n",
       "      <td>4</td>\n",
       "      <td>강감찬</td>\n",
       "      <td>2.0</td>\n",
       "      <td>70</td>\n",
       "      <td>C</td>\n",
       "      <td>5</td>\n",
       "    </tr>\n",
       "    <tr>\n",
       "      <th>4</th>\n",
       "      <td>5</td>\n",
       "      <td>강감찬</td>\n",
       "      <td>3.0</td>\n",
       "      <td>83</td>\n",
       "      <td>C</td>\n",
       "      <td>5</td>\n",
       "    </tr>\n",
       "    <tr>\n",
       "      <th>5</th>\n",
       "      <td>6</td>\n",
       "      <td>이순신</td>\n",
       "      <td>4.0</td>\n",
       "      <td>95</td>\n",
       "      <td>A</td>\n",
       "      <td>0</td>\n",
       "    </tr>\n",
       "    <tr>\n",
       "      <th>6</th>\n",
       "      <td>7</td>\n",
       "      <td>강감찬</td>\n",
       "      <td>4.0</td>\n",
       "      <td>71</td>\n",
       "      <td>C</td>\n",
       "      <td>1</td>\n",
       "    </tr>\n",
       "    <tr>\n",
       "      <th>7</th>\n",
       "      <td>8</td>\n",
       "      <td>김유신</td>\n",
       "      <td>NaN</td>\n",
       "      <td>88</td>\n",
       "      <td>B</td>\n",
       "      <td>5</td>\n",
       "    </tr>\n",
       "    <tr>\n",
       "      <th>8</th>\n",
       "      <td>9</td>\n",
       "      <td>신사임당</td>\n",
       "      <td>3.0</td>\n",
       "      <td>94</td>\n",
       "      <td>A</td>\n",
       "      <td>9</td>\n",
       "    </tr>\n",
       "    <tr>\n",
       "      <th>9</th>\n",
       "      <td>10</td>\n",
       "      <td>홍길동</td>\n",
       "      <td>NaN</td>\n",
       "      <td>60</td>\n",
       "      <td>B</td>\n",
       "      <td>3</td>\n",
       "    </tr>\n",
       "    <tr>\n",
       "      <th>10</th>\n",
       "      <td>11</td>\n",
       "      <td>NaN</td>\n",
       "      <td>1.0</td>\n",
       "      <td>200</td>\n",
       "      <td>C</td>\n",
       "      <td>0</td>\n",
       "    </tr>\n",
       "    <tr>\n",
       "      <th>11</th>\n",
       "      <td>12</td>\n",
       "      <td>신사임당</td>\n",
       "      <td>2.0</td>\n",
       "      <td>96</td>\n",
       "      <td>A</td>\n",
       "      <td>20</td>\n",
       "    </tr>\n",
       "    <tr>\n",
       "      <th>12</th>\n",
       "      <td>13</td>\n",
       "      <td>김유신</td>\n",
       "      <td>4.0</td>\n",
       "      <td>65</td>\n",
       "      <td>A</td>\n",
       "      <td>0</td>\n",
       "    </tr>\n",
       "    <tr>\n",
       "      <th>13</th>\n",
       "      <td>14</td>\n",
       "      <td>NaN</td>\n",
       "      <td>2.0</td>\n",
       "      <td>98</td>\n",
       "      <td>C</td>\n",
       "      <td>1</td>\n",
       "    </tr>\n",
       "    <tr>\n",
       "      <th>14</th>\n",
       "      <td>15</td>\n",
       "      <td>홍길동</td>\n",
       "      <td>4.0</td>\n",
       "      <td>77</td>\n",
       "      <td>A</td>\n",
       "      <td>2</td>\n",
       "    </tr>\n",
       "    <tr>\n",
       "      <th>15</th>\n",
       "      <td>16</td>\n",
       "      <td>이순신</td>\n",
       "      <td>4.0</td>\n",
       "      <td>75</td>\n",
       "      <td>A</td>\n",
       "      <td>4</td>\n",
       "    </tr>\n",
       "    <tr>\n",
       "      <th>16</th>\n",
       "      <td>17</td>\n",
       "      <td>NaN</td>\n",
       "      <td>3.0</td>\n",
       "      <td>64</td>\n",
       "      <td>A</td>\n",
       "      <td>2</td>\n",
       "    </tr>\n",
       "    <tr>\n",
       "      <th>17</th>\n",
       "      <td>18</td>\n",
       "      <td>홍길동</td>\n",
       "      <td>4.0</td>\n",
       "      <td>91</td>\n",
       "      <td>A</td>\n",
       "      <td>0</td>\n",
       "    </tr>\n",
       "    <tr>\n",
       "      <th>18</th>\n",
       "      <td>19</td>\n",
       "      <td>이순신</td>\n",
       "      <td>1.0</td>\n",
       "      <td>200</td>\n",
       "      <td>A</td>\n",
       "      <td>3</td>\n",
       "    </tr>\n",
       "    <tr>\n",
       "      <th>19</th>\n",
       "      <td>20</td>\n",
       "      <td>신사임당</td>\n",
       "      <td>2.0</td>\n",
       "      <td>61</td>\n",
       "      <td>A</td>\n",
       "      <td>2</td>\n",
       "    </tr>\n",
       "  </tbody>\n",
       "</table>\n",
       "</div>"
      ],
      "text/plain": [
       "    학번    이름   학년   점수 분반  공부시간\n",
       "0    1  신사임당  NaN   69  B     4\n",
       "1    2   홍길동  1.0   92  B     3\n",
       "2    3   강감찬  4.0   91  C    20\n",
       "3    4   강감찬  2.0   70  C     5\n",
       "4    5   강감찬  3.0   83  C     5\n",
       "5    6   이순신  4.0   95  A     0\n",
       "6    7   강감찬  4.0   71  C     1\n",
       "7    8   김유신  NaN   88  B     5\n",
       "8    9  신사임당  3.0   94  A     9\n",
       "9   10   홍길동  NaN   60  B     3\n",
       "10  11   NaN  1.0  200  C     0\n",
       "11  12  신사임당  2.0   96  A    20\n",
       "12  13   김유신  4.0   65  A     0\n",
       "13  14   NaN  2.0   98  C     1\n",
       "14  15   홍길동  4.0   77  A     2\n",
       "15  16   이순신  4.0   75  A     4\n",
       "16  17   NaN  3.0   64  A     2\n",
       "17  18   홍길동  4.0   91  A     0\n",
       "18  19   이순신  1.0  200  A     3\n",
       "19  20  신사임당  2.0   61  A     2"
      ]
     },
     "execution_count": 216,
     "metadata": {},
     "output_type": "execute_result"
    }
   ],
   "source": [
    "data.drop_duplicates()"
   ]
  },
  {
   "cell_type": "code",
   "execution_count": 217,
   "id": "f98765ff-bebd-4542-a756-5bce2a24d7ca",
   "metadata": {},
   "outputs": [
    {
     "data": {
      "text/plain": [
       "(21, 6)"
      ]
     },
     "execution_count": 217,
     "metadata": {},
     "output_type": "execute_result"
    }
   ],
   "source": [
    "data.shape"
   ]
  },
  {
   "cell_type": "markdown",
   "id": "832b7282-250f-490f-858a-785b2b6adae5",
   "metadata": {},
   "source": [
    "### 8번"
   ]
  },
  {
   "cell_type": "code",
   "execution_count": 219,
   "id": "46ca2710-4690-4d43-a5ac-e091bf44b225",
   "metadata": {},
   "outputs": [],
   "source": [
    "import matplotlib.pyplot as plt"
   ]
  },
  {
   "cell_type": "code",
   "execution_count": 220,
   "id": "592ec9a0-546a-492d-b7d7-996008f8e08b",
   "metadata": {},
   "outputs": [
    {
     "data": {
      "text/plain": [
       "<matplotlib.collections.PathCollection at 0x21c67cd8050>"
      ]
     },
     "execution_count": 220,
     "metadata": {},
     "output_type": "execute_result"
    },
    {
     "data": {
      "image/png": "[encoded data removed]",
      "text/plain": [
       "<Figure size 640x480 with 1 Axes>"
      ]
     },
     "metadata": {},
     "output_type": "display_data"
    }
   ],
   "source": [
    "plt.scatter(data['공부시간'], data['점수'])"
   ]
  },
  {
   "cell_type": "markdown",
   "id": "2a078b6a-5202-4c5c-b495-d467c42f47f1",
   "metadata": {},
   "source": [
    "### 9번"
   ]
  },
  {
   "cell_type": "code",
   "execution_count": 222,
   "id": "4d5af50a-4b90-4939-8cd0-8bd3661f7c75",
   "metadata": {},
   "outputs": [],
   "source": [
    "Q1_score = data['점수'].quantile(0.25)\n",
    "Q3_score = data['점수'].quantile(0.75)\n",
    "Q1_time = data['공부시간'].quantile(0.25)\n",
    "Q3_time = data['공부시간'].quantile(0.75)"
   ]
  },
  {
   "cell_type": "code",
   "execution_count": 223,
   "id": "1c8e933f-ff9b-4219-8dbd-20ab40c0b08f",
   "metadata": {},
   "outputs": [],
   "source": [
    "IQR_score = Q3_score - Q1_score\n",
    "IQR_time = Q3_time - Q1_time"
   ]
  },
  {
   "cell_type": "code",
   "execution_count": 224,
   "id": "603cc858-0a72-4ece-b3ae-7d9c41ddb617",
   "metadata": {},
   "outputs": [],
   "source": [
    "lower_bound_score = Q1_score - 1.5 * IQR_score\n",
    "upper_bound_score = Q3_score + 1.5 * IQR_score\n",
    "lower_bound_time = Q1_time - 1.5 * IQR_time\n",
    "upper_bound_time = Q3_time + 1.5 * IQR_time"
   ]
  },
  {
   "cell_type": "code",
   "execution_count": 225,
   "id": "baaf4122-68cf-4a7b-abde-f91b0a90bb55",
   "metadata": {},
   "outputs": [],
   "source": [
    "outlier_score = (data['점수'] < lower_bound_score) | (data['점수'] > upper_bound_score)\n",
    "outlier_time = (data['공부시간'] < lower_bound_time) | (data['공부시간'] > upper_bound_time)"
   ]
  },
  {
   "cell_type": "code",
   "execution_count": 226,
   "id": "24a3c4a6-3813-47fb-bc89-0958b0c46f93",
   "metadata": {},
   "outputs": [
    {
     "data": {
      "text/html": [
       "<div>\n",
       "<style scoped>\n",
       "    .dataframe tbody tr th:only-of-type {\n",
       "        vertical-align: middle;\n",
       "    }\n",
       "\n",
       "    .dataframe tbody tr th {\n",
       "        vertical-align: top;\n",
       "    }\n",
       "\n",
       "    .dataframe thead th {\n",
       "        text-align: right;\n",
       "    }\n",
       "</style>\n",
       "<table border=\"1\" class=\"dataframe\">\n",
       "  <thead>\n",
       "    <tr style=\"text-align: right;\">\n",
       "      <th></th>\n",
       "      <th>학번</th>\n",
       "      <th>이름</th>\n",
       "      <th>학년</th>\n",
       "      <th>점수</th>\n",
       "      <th>분반</th>\n",
       "      <th>공부시간</th>\n",
       "    </tr>\n",
       "  </thead>\n",
       "  <tbody>\n",
       "    <tr>\n",
       "      <th>10</th>\n",
       "      <td>11</td>\n",
       "      <td>NaN</td>\n",
       "      <td>1.0</td>\n",
       "      <td>200</td>\n",
       "      <td>C</td>\n",
       "      <td>0</td>\n",
       "    </tr>\n",
       "    <tr>\n",
       "      <th>18</th>\n",
       "      <td>19</td>\n",
       "      <td>이순신</td>\n",
       "      <td>1.0</td>\n",
       "      <td>200</td>\n",
       "      <td>A</td>\n",
       "      <td>3</td>\n",
       "    </tr>\n",
       "  </tbody>\n",
       "</table>\n",
       "</div>"
      ],
      "text/plain": [
       "    학번   이름   학년   점수 분반  공부시간\n",
       "10  11  NaN  1.0  200  C     0\n",
       "18  19  이순신  1.0  200  A     3"
      ]
     },
     "execution_count": 226,
     "metadata": {},
     "output_type": "execute_result"
    }
   ],
   "source": [
    "data[outlier_score]"
   ]
  },
  {
   "cell_type": "code",
   "execution_count": 227,
   "id": "9a4de8cb-e995-41a6-929f-d73684c45f1f",
   "metadata": {},
   "outputs": [
    {
     "data": {
      "text/html": [
       "<div>\n",
       "<style scoped>\n",
       "    .dataframe tbody tr th:only-of-type {\n",
       "        vertical-align: middle;\n",
       "    }\n",
       "\n",
       "    .dataframe tbody tr th {\n",
       "        vertical-align: top;\n",
       "    }\n",
       "\n",
       "    .dataframe thead th {\n",
       "        text-align: right;\n",
       "    }\n",
       "</style>\n",
       "<table border=\"1\" class=\"dataframe\">\n",
       "  <thead>\n",
       "    <tr style=\"text-align: right;\">\n",
       "      <th></th>\n",
       "      <th>학번</th>\n",
       "      <th>이름</th>\n",
       "      <th>학년</th>\n",
       "      <th>점수</th>\n",
       "      <th>분반</th>\n",
       "      <th>공부시간</th>\n",
       "    </tr>\n",
       "  </thead>\n",
       "  <tbody>\n",
       "    <tr>\n",
       "      <th>2</th>\n",
       "      <td>3</td>\n",
       "      <td>강감찬</td>\n",
       "      <td>4.0</td>\n",
       "      <td>91</td>\n",
       "      <td>C</td>\n",
       "      <td>20</td>\n",
       "    </tr>\n",
       "    <tr>\n",
       "      <th>11</th>\n",
       "      <td>12</td>\n",
       "      <td>신사임당</td>\n",
       "      <td>2.0</td>\n",
       "      <td>96</td>\n",
       "      <td>A</td>\n",
       "      <td>20</td>\n",
       "    </tr>\n",
       "  </tbody>\n",
       "</table>\n",
       "</div>"
      ],
      "text/plain": [
       "    학번    이름   학년  점수 분반  공부시간\n",
       "2    3   강감찬  4.0  91  C    20\n",
       "11  12  신사임당  2.0  96  A    20"
      ]
     },
     "execution_count": 227,
     "metadata": {},
     "output_type": "execute_result"
    }
   ],
   "source": [
    "data[outlier_time]"
   ]
  },
  {
   "cell_type": "code",
   "execution_count": 228,
   "id": "de7405fc-1125-4948-93fe-08d758cb8064",
   "metadata": {},
   "outputs": [],
   "source": [
    "data = data[(~outlier_score) & (~outlier_time)]"
   ]
  },
  {
   "cell_type": "code",
   "execution_count": 229,
   "id": "db146c45-d1ff-42db-8232-5c2c8157b640",
   "metadata": {},
   "outputs": [
    {
     "data": {
      "text/html": [
       "<div>\n",
       "<style scoped>\n",
       "    .dataframe tbody tr th:only-of-type {\n",
       "        vertical-align: middle;\n",
       "    }\n",
       "\n",
       "    .dataframe tbody tr th {\n",
       "        vertical-align: top;\n",
       "    }\n",
       "\n",
       "    .dataframe thead th {\n",
       "        text-align: right;\n",
       "    }\n",
       "</style>\n",
       "<table border=\"1\" class=\"dataframe\">\n",
       "  <thead>\n",
       "    <tr style=\"text-align: right;\">\n",
       "      <th></th>\n",
       "      <th>학번</th>\n",
       "      <th>이름</th>\n",
       "      <th>학년</th>\n",
       "      <th>점수</th>\n",
       "      <th>분반</th>\n",
       "      <th>공부시간</th>\n",
       "    </tr>\n",
       "  </thead>\n",
       "  <tbody>\n",
       "    <tr>\n",
       "      <th>0</th>\n",
       "      <td>1</td>\n",
       "      <td>신사임당</td>\n",
       "      <td>NaN</td>\n",
       "      <td>69</td>\n",
       "      <td>B</td>\n",
       "      <td>4</td>\n",
       "    </tr>\n",
       "    <tr>\n",
       "      <th>1</th>\n",
       "      <td>2</td>\n",
       "      <td>홍길동</td>\n",
       "      <td>1.0</td>\n",
       "      <td>92</td>\n",
       "      <td>B</td>\n",
       "      <td>3</td>\n",
       "    </tr>\n",
       "    <tr>\n",
       "      <th>3</th>\n",
       "      <td>4</td>\n",
       "      <td>강감찬</td>\n",
       "      <td>2.0</td>\n",
       "      <td>70</td>\n",
       "      <td>C</td>\n",
       "      <td>5</td>\n",
       "    </tr>\n",
       "    <tr>\n",
       "      <th>4</th>\n",
       "      <td>5</td>\n",
       "      <td>강감찬</td>\n",
       "      <td>3.0</td>\n",
       "      <td>83</td>\n",
       "      <td>C</td>\n",
       "      <td>5</td>\n",
       "    </tr>\n",
       "    <tr>\n",
       "      <th>5</th>\n",
       "      <td>6</td>\n",
       "      <td>이순신</td>\n",
       "      <td>4.0</td>\n",
       "      <td>95</td>\n",
       "      <td>A</td>\n",
       "      <td>0</td>\n",
       "    </tr>\n",
       "    <tr>\n",
       "      <th>6</th>\n",
       "      <td>7</td>\n",
       "      <td>강감찬</td>\n",
       "      <td>4.0</td>\n",
       "      <td>71</td>\n",
       "      <td>C</td>\n",
       "      <td>1</td>\n",
       "    </tr>\n",
       "    <tr>\n",
       "      <th>7</th>\n",
       "      <td>8</td>\n",
       "      <td>김유신</td>\n",
       "      <td>NaN</td>\n",
       "      <td>88</td>\n",
       "      <td>B</td>\n",
       "      <td>5</td>\n",
       "    </tr>\n",
       "    <tr>\n",
       "      <th>8</th>\n",
       "      <td>9</td>\n",
       "      <td>신사임당</td>\n",
       "      <td>3.0</td>\n",
       "      <td>94</td>\n",
       "      <td>A</td>\n",
       "      <td>9</td>\n",
       "    </tr>\n",
       "    <tr>\n",
       "      <th>9</th>\n",
       "      <td>10</td>\n",
       "      <td>홍길동</td>\n",
       "      <td>NaN</td>\n",
       "      <td>60</td>\n",
       "      <td>B</td>\n",
       "      <td>3</td>\n",
       "    </tr>\n",
       "    <tr>\n",
       "      <th>12</th>\n",
       "      <td>13</td>\n",
       "      <td>김유신</td>\n",
       "      <td>4.0</td>\n",
       "      <td>65</td>\n",
       "      <td>A</td>\n",
       "      <td>0</td>\n",
       "    </tr>\n",
       "    <tr>\n",
       "      <th>13</th>\n",
       "      <td>14</td>\n",
       "      <td>NaN</td>\n",
       "      <td>2.0</td>\n",
       "      <td>98</td>\n",
       "      <td>C</td>\n",
       "      <td>1</td>\n",
       "    </tr>\n",
       "    <tr>\n",
       "      <th>14</th>\n",
       "      <td>15</td>\n",
       "      <td>홍길동</td>\n",
       "      <td>4.0</td>\n",
       "      <td>77</td>\n",
       "      <td>A</td>\n",
       "      <td>2</td>\n",
       "    </tr>\n",
       "    <tr>\n",
       "      <th>15</th>\n",
       "      <td>16</td>\n",
       "      <td>이순신</td>\n",
       "      <td>4.0</td>\n",
       "      <td>75</td>\n",
       "      <td>A</td>\n",
       "      <td>4</td>\n",
       "    </tr>\n",
       "    <tr>\n",
       "      <th>16</th>\n",
       "      <td>17</td>\n",
       "      <td>NaN</td>\n",
       "      <td>3.0</td>\n",
       "      <td>64</td>\n",
       "      <td>A</td>\n",
       "      <td>2</td>\n",
       "    </tr>\n",
       "    <tr>\n",
       "      <th>17</th>\n",
       "      <td>18</td>\n",
       "      <td>홍길동</td>\n",
       "      <td>4.0</td>\n",
       "      <td>91</td>\n",
       "      <td>A</td>\n",
       "      <td>0</td>\n",
       "    </tr>\n",
       "    <tr>\n",
       "      <th>19</th>\n",
       "      <td>20</td>\n",
       "      <td>신사임당</td>\n",
       "      <td>2.0</td>\n",
       "      <td>61</td>\n",
       "      <td>A</td>\n",
       "      <td>2</td>\n",
       "    </tr>\n",
       "    <tr>\n",
       "      <th>20</th>\n",
       "      <td>20</td>\n",
       "      <td>신사임당</td>\n",
       "      <td>2.0</td>\n",
       "      <td>61</td>\n",
       "      <td>A</td>\n",
       "      <td>2</td>\n",
       "    </tr>\n",
       "  </tbody>\n",
       "</table>\n",
       "</div>"
      ],
      "text/plain": [
       "    학번    이름   학년  점수 분반  공부시간\n",
       "0    1  신사임당  NaN  69  B     4\n",
       "1    2   홍길동  1.0  92  B     3\n",
       "3    4   강감찬  2.0  70  C     5\n",
       "4    5   강감찬  3.0  83  C     5\n",
       "5    6   이순신  4.0  95  A     0\n",
       "6    7   강감찬  4.0  71  C     1\n",
       "7    8   김유신  NaN  88  B     5\n",
       "8    9  신사임당  3.0  94  A     9\n",
       "9   10   홍길동  NaN  60  B     3\n",
       "12  13   김유신  4.0  65  A     0\n",
       "13  14   NaN  2.0  98  C     1\n",
       "14  15   홍길동  4.0  77  A     2\n",
       "15  16   이순신  4.0  75  A     4\n",
       "16  17   NaN  3.0  64  A     2\n",
       "17  18   홍길동  4.0  91  A     0\n",
       "19  20  신사임당  2.0  61  A     2\n",
       "20  20  신사임당  2.0  61  A     2"
      ]
     },
     "execution_count": 229,
     "metadata": {},
     "output_type": "execute_result"
    }
   ],
   "source": [
    "data"
   ]
  },
  {
   "cell_type": "code",
   "execution_count": 230,
   "id": "0ef3a719-fc5c-4231-ad67-e74467b304c3",
   "metadata": {},
   "outputs": [
    {
     "data": {
      "text/plain": [
       "17"
      ]
     },
     "execution_count": 230,
     "metadata": {},
     "output_type": "execute_result"
    }
   ],
   "source": [
    "len(data)"
   ]
  },
  {
   "cell_type": "markdown",
   "id": "127ca6ce-f16b-421a-bd18-03dc794e1cb9",
   "metadata": {},
   "source": [
    "### 10번"
   ]
  },
  {
   "cell_type": "code",
   "execution_count": 232,
   "id": "99ec521c-5436-4e67-9dcb-d9a552d8683f",
   "metadata": {
    "scrolled": true
   },
   "outputs": [
    {
     "data": {
      "text/plain": [
       "분반\n",
       "A    75.89\n",
       "B    77.25\n",
       "C    80.50\n",
       "Name: 점수, dtype: float64"
      ]
     },
     "execution_count": 232,
     "metadata": {},
     "output_type": "execute_result"
    }
   ],
   "source": [
    "round(data.groupby('분반')['점수'].mean(), 2)"
   ]
  },
  {
   "cell_type": "markdown",
   "id": "0ac5f049-2f3c-404f-8cbb-070d6286c6cb",
   "metadata": {},
   "source": [
    "### 11번"
   ]
  },
  {
   "cell_type": "code",
   "execution_count": 234,
   "id": "99993982-5ea9-45f8-983b-83b45c60fa7d",
   "metadata": {},
   "outputs": [
    {
     "data": {
      "text/plain": [
       "Index(['A', 'B', 'C'], dtype='object', name='분반')"
      ]
     },
     "execution_count": 234,
     "metadata": {},
     "output_type": "execute_result"
    }
   ],
   "source": [
    "data.groupby('분반')['점수'].mean().index"
   ]
  },
  {
   "cell_type": "code",
   "execution_count": 235,
   "id": "a88a59b3-8402-485a-b243-1eb4b8919cf3",
   "metadata": {},
   "outputs": [
    {
     "data": {
      "text/plain": [
       "array([75.88888889, 77.25      , 80.5       ])"
      ]
     },
     "execution_count": 235,
     "metadata": {},
     "output_type": "execute_result"
    }
   ],
   "source": [
    "data.groupby('분반')['점수'].mean().values"
   ]
  },
  {
   "cell_type": "code",
   "execution_count": 236,
   "id": "a2b49e03-8d24-4d71-b36c-d1b48fdbf86f",
   "metadata": {
    "scrolled": true
   },
   "outputs": [
    {
     "data": {
      "text/plain": [
       "<BarContainer object of 3 artists>"
      ]
     },
     "execution_count": 236,
     "metadata": {},
     "output_type": "execute_result"
    },
    {
     "data": {
      "image/png": "[encoded data removed]",
      "text/plain": [
       "<Figure size 640x480 with 1 Axes>"
      ]
     },
     "metadata": {},
     "output_type": "display_data"
    }
   ],
   "source": [
    "plt.bar(data.groupby('분반')['점수'].mean().index, data.groupby('분반')['점수'].mean().values)"
   ]
  },
  {
   "cell_type": "code",
   "execution_count": 237,
   "id": "8b4e47be-d4b0-4262-9443-5ba0b10ed7e7",
   "metadata": {},
   "outputs": [
    {
     "data": {
      "text/plain": [
       "<matplotlib.collections.PathCollection at 0x21c67bdf110>"
      ]
     },
     "execution_count": 237,
     "metadata": {},
     "output_type": "execute_result"
    },
    {
     "data": {
      "image/png": "[encoded data removed]",
      "text/plain": [
       "<Figure size 640x480 with 1 Axes>"
      ]
     },
     "metadata": {},
     "output_type": "display_data"
    }
   ],
   "source": [
    "plt.scatter(data['공부시간'], data['점수'])"
   ]
  }
 ],
 "metadata": {
  "kernelspec": {
   "display_name": "Python 3 (ipykernel)",
   "language": "python",
   "name": "python3"
  },
  "language_info": {
   "codemirror_mode": {
    "name": "ipython",
    "version": 3
   },
   "file_extension": ".py",
   "mimetype": "text/x-python",
   "name": "python",
   "nbconvert_exporter": "python",
   "pygments_lexer": "ipython3",
   "version": "3.12.7"
  }
 },
 "nbformat": 4,
 "nbformat_minor": 5
}
